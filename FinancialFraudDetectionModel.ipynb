{
  "cells": [
    {
      "cell_type": "markdown",
      "metadata": {
        "id": "17cedcac-8a66-41ad-b1c6-7f45fac97f40"
      },
      "source": [
        "## Importing Libraries"
      ],
      "id": "17cedcac-8a66-41ad-b1c6-7f45fac97f40"
    },
    {
      "cell_type": "code",
      "execution_count": null,
      "metadata": {
        "id": "c6ddf899-f0f9-445f-8e52-2dd151da1a86"
      },
      "outputs": [],
      "source": [
        "import numpy as np\n",
        "import pandas as pd\n",
        "\n",
        "import matplotlib.pyplot as plt\n",
        "import seaborn as sns\n",
        "import missingno as msno\n",
        "import plotly.express as px"
      ],
      "id": "c6ddf899-f0f9-445f-8e52-2dd151da1a86"
    },
    {
      "cell_type": "markdown",
      "metadata": {
        "id": "8c0ef9ff-1f49-4de5-8efb-a1af50f5bf24"
      },
      "source": [
        "## Reading Data"
      ],
      "id": "8c0ef9ff-1f49-4de5-8efb-a1af50f5bf24"
    },
    {
      "cell_type": "code",
      "execution_count": null,
      "metadata": {
        "id": "8479d866-b414-4c0b-85cd-ddd298498490"
      },
      "outputs": [],
      "source": [
        "data = pd.read_csv('/content/sample_data/fraud_detection.csv')"
      ],
      "id": "8479d866-b414-4c0b-85cd-ddd298498490"
    },
    {
      "cell_type": "code",
      "execution_count": null,
      "metadata": {
        "colab": {
          "base_uri": "https://localhost:8080/",
          "height": 226
        },
        "id": "1392a916-4ae6-4c11-8c8b-2c0d165ac8a0",
        "outputId": "75e0a937-fc7b-4475-9409-333f4bbfc61e"
      },
      "outputs": [
        {
          "data": {
            "text/html": [
              "\n",
              "  <div id=\"df-864d6097-06e5-4799-ab97-43163c6ee3a9\" class=\"colab-df-container\">\n",
              "    <div>\n",
              "<style scoped>\n",
              "    .dataframe tbody tr th:only-of-type {\n",
              "        vertical-align: middle;\n",
              "    }\n",
              "\n",
              "    .dataframe tbody tr th {\n",
              "        vertical-align: top;\n",
              "    }\n",
              "\n",
              "    .dataframe thead th {\n",
              "        text-align: right;\n",
              "    }\n",
              "</style>\n",
              "<table border=\"1\" class=\"dataframe\">\n",
              "  <thead>\n",
              "    <tr style=\"text-align: right;\">\n",
              "      <th></th>\n",
              "      <th>step</th>\n",
              "      <th>type</th>\n",
              "      <th>amount</th>\n",
              "      <th>nameOrig</th>\n",
              "      <th>oldbalanceOrg</th>\n",
              "      <th>newbalanceOrig</th>\n",
              "      <th>nameDest</th>\n",
              "      <th>oldbalanceDest</th>\n",
              "      <th>newbalanceDest</th>\n",
              "      <th>isFraud</th>\n",
              "      <th>isFlaggedFraud</th>\n",
              "    </tr>\n",
              "  </thead>\n",
              "  <tbody>\n",
              "    <tr>\n",
              "      <th>0</th>\n",
              "      <td>1</td>\n",
              "      <td>PAYMENT</td>\n",
              "      <td>9839.64</td>\n",
              "      <td>C1231006815</td>\n",
              "      <td>170136.0</td>\n",
              "      <td>160296.36</td>\n",
              "      <td>M1979787155</td>\n",
              "      <td>0.0</td>\n",
              "      <td>0.0</td>\n",
              "      <td>0.0</td>\n",
              "      <td>0.0</td>\n",
              "    </tr>\n",
              "    <tr>\n",
              "      <th>1</th>\n",
              "      <td>1</td>\n",
              "      <td>PAYMENT</td>\n",
              "      <td>1864.28</td>\n",
              "      <td>C1666544295</td>\n",
              "      <td>21249.0</td>\n",
              "      <td>19384.72</td>\n",
              "      <td>M2044282225</td>\n",
              "      <td>0.0</td>\n",
              "      <td>0.0</td>\n",
              "      <td>0.0</td>\n",
              "      <td>0.0</td>\n",
              "    </tr>\n",
              "    <tr>\n",
              "      <th>2</th>\n",
              "      <td>1</td>\n",
              "      <td>TRANSFER</td>\n",
              "      <td>181.00</td>\n",
              "      <td>C1305486145</td>\n",
              "      <td>181.0</td>\n",
              "      <td>0.00</td>\n",
              "      <td>C553264065</td>\n",
              "      <td>0.0</td>\n",
              "      <td>0.0</td>\n",
              "      <td>1.0</td>\n",
              "      <td>0.0</td>\n",
              "    </tr>\n",
              "    <tr>\n",
              "      <th>3</th>\n",
              "      <td>1</td>\n",
              "      <td>CASH_OUT</td>\n",
              "      <td>181.00</td>\n",
              "      <td>C840083671</td>\n",
              "      <td>181.0</td>\n",
              "      <td>0.00</td>\n",
              "      <td>C38997010</td>\n",
              "      <td>21182.0</td>\n",
              "      <td>0.0</td>\n",
              "      <td>1.0</td>\n",
              "      <td>0.0</td>\n",
              "    </tr>\n",
              "    <tr>\n",
              "      <th>4</th>\n",
              "      <td>1</td>\n",
              "      <td>PAYMENT</td>\n",
              "      <td>11668.14</td>\n",
              "      <td>C2048537720</td>\n",
              "      <td>41554.0</td>\n",
              "      <td>29885.86</td>\n",
              "      <td>M1230701703</td>\n",
              "      <td>0.0</td>\n",
              "      <td>0.0</td>\n",
              "      <td>0.0</td>\n",
              "      <td>0.0</td>\n",
              "    </tr>\n",
              "  </tbody>\n",
              "</table>\n",
              "</div>\n",
              "    <div class=\"colab-df-buttons\">\n",
              "\n",
              "  <div class=\"colab-df-container\">\n",
              "    <button class=\"colab-df-convert\" onclick=\"convertToInteractive('df-864d6097-06e5-4799-ab97-43163c6ee3a9')\"\n",
              "            title=\"Convert this dataframe to an interactive table.\"\n",
              "            style=\"display:none;\">\n",
              "\n",
              "  <svg xmlns=\"http://www.w3.org/2000/svg\" height=\"24px\" viewBox=\"0 -960 960 960\">\n",
              "    <path d=\"M120-120v-720h720v720H120Zm60-500h600v-160H180v160Zm220 220h160v-160H400v160Zm0 220h160v-160H400v160ZM180-400h160v-160H180v160Zm440 0h160v-160H620v160ZM180-180h160v-160H180v160Zm440 0h160v-160H620v160Z\"/>\n",
              "  </svg>\n",
              "    </button>\n",
              "\n",
              "  <style>\n",
              "    .colab-df-container {\n",
              "      display:flex;\n",
              "      gap: 12px;\n",
              "    }\n",
              "\n",
              "    .colab-df-convert {\n",
              "      background-color: #E8F0FE;\n",
              "      border: none;\n",
              "      border-radius: 50%;\n",
              "      cursor: pointer;\n",
              "      display: none;\n",
              "      fill: #1967D2;\n",
              "      height: 32px;\n",
              "      padding: 0 0 0 0;\n",
              "      width: 32px;\n",
              "    }\n",
              "\n",
              "    .colab-df-convert:hover {\n",
              "      background-color: #E2EBFA;\n",
              "      box-shadow: 0px 1px 2px rgba(60, 64, 67, 0.3), 0px 1px 3px 1px rgba(60, 64, 67, 0.15);\n",
              "      fill: #174EA6;\n",
              "    }\n",
              "\n",
              "    .colab-df-buttons div {\n",
              "      margin-bottom: 4px;\n",
              "    }\n",
              "\n",
              "    [theme=dark] .colab-df-convert {\n",
              "      background-color: #3B4455;\n",
              "      fill: #D2E3FC;\n",
              "    }\n",
              "\n",
              "    [theme=dark] .colab-df-convert:hover {\n",
              "      background-color: #434B5C;\n",
              "      box-shadow: 0px 1px 3px 1px rgba(0, 0, 0, 0.15);\n",
              "      filter: drop-shadow(0px 1px 2px rgba(0, 0, 0, 0.3));\n",
              "      fill: #FFFFFF;\n",
              "    }\n",
              "  </style>\n",
              "\n",
              "    <script>\n",
              "      const buttonEl =\n",
              "        document.querySelector('#df-864d6097-06e5-4799-ab97-43163c6ee3a9 button.colab-df-convert');\n",
              "      buttonEl.style.display =\n",
              "        google.colab.kernel.accessAllowed ? 'block' : 'none';\n",
              "\n",
              "      async function convertToInteractive(key) {\n",
              "        const element = document.querySelector('#df-864d6097-06e5-4799-ab97-43163c6ee3a9');\n",
              "        const dataTable =\n",
              "          await google.colab.kernel.invokeFunction('convertToInteractive',\n",
              "                                                    [key], {});\n",
              "        if (!dataTable) return;\n",
              "\n",
              "        const docLinkHtml = 'Like what you see? Visit the ' +\n",
              "          '<a target=\"_blank\" href=https://colab.research.google.com/notebooks/data_table.ipynb>data table notebook</a>'\n",
              "          + ' to learn more about interactive tables.';\n",
              "        element.innerHTML = '';\n",
              "        dataTable['output_type'] = 'display_data';\n",
              "        await google.colab.output.renderOutput(dataTable, element);\n",
              "        const docLink = document.createElement('div');\n",
              "        docLink.innerHTML = docLinkHtml;\n",
              "        element.appendChild(docLink);\n",
              "      }\n",
              "    </script>\n",
              "  </div>\n",
              "\n",
              "\n",
              "<div id=\"df-d0000381-46cb-423b-a640-2c1540a7355a\">\n",
              "  <button class=\"colab-df-quickchart\" onclick=\"quickchart('df-d0000381-46cb-423b-a640-2c1540a7355a')\"\n",
              "            title=\"Suggest charts.\"\n",
              "            style=\"display:none;\">\n",
              "\n",
              "<svg xmlns=\"http://www.w3.org/2000/svg\" height=\"24px\"viewBox=\"0 0 24 24\"\n",
              "     width=\"24px\">\n",
              "    <g>\n",
              "        <path d=\"M19 3H5c-1.1 0-2 .9-2 2v14c0 1.1.9 2 2 2h14c1.1 0 2-.9 2-2V5c0-1.1-.9-2-2-2zM9 17H7v-7h2v7zm4 0h-2V7h2v10zm4 0h-2v-4h2v4z\"/>\n",
              "    </g>\n",
              "</svg>\n",
              "  </button>\n",
              "\n",
              "<style>\n",
              "  .colab-df-quickchart {\n",
              "      --bg-color: #E8F0FE;\n",
              "      --fill-color: #1967D2;\n",
              "      --hover-bg-color: #E2EBFA;\n",
              "      --hover-fill-color: #174EA6;\n",
              "      --disabled-fill-color: #AAA;\n",
              "      --disabled-bg-color: #DDD;\n",
              "  }\n",
              "\n",
              "  [theme=dark] .colab-df-quickchart {\n",
              "      --bg-color: #3B4455;\n",
              "      --fill-color: #D2E3FC;\n",
              "      --hover-bg-color: #434B5C;\n",
              "      --hover-fill-color: #FFFFFF;\n",
              "      --disabled-bg-color: #3B4455;\n",
              "      --disabled-fill-color: #666;\n",
              "  }\n",
              "\n",
              "  .colab-df-quickchart {\n",
              "    background-color: var(--bg-color);\n",
              "    border: none;\n",
              "    border-radius: 50%;\n",
              "    cursor: pointer;\n",
              "    display: none;\n",
              "    fill: var(--fill-color);\n",
              "    height: 32px;\n",
              "    padding: 0;\n",
              "    width: 32px;\n",
              "  }\n",
              "\n",
              "  .colab-df-quickchart:hover {\n",
              "    background-color: var(--hover-bg-color);\n",
              "    box-shadow: 0 1px 2px rgba(60, 64, 67, 0.3), 0 1px 3px 1px rgba(60, 64, 67, 0.15);\n",
              "    fill: var(--button-hover-fill-color);\n",
              "  }\n",
              "\n",
              "  .colab-df-quickchart-complete:disabled,\n",
              "  .colab-df-quickchart-complete:disabled:hover {\n",
              "    background-color: var(--disabled-bg-color);\n",
              "    fill: var(--disabled-fill-color);\n",
              "    box-shadow: none;\n",
              "  }\n",
              "\n",
              "  .colab-df-spinner {\n",
              "    border: 2px solid var(--fill-color);\n",
              "    border-color: transparent;\n",
              "    border-bottom-color: var(--fill-color);\n",
              "    animation:\n",
              "      spin 1s steps(1) infinite;\n",
              "  }\n",
              "\n",
              "  @keyframes spin {\n",
              "    0% {\n",
              "      border-color: transparent;\n",
              "      border-bottom-color: var(--fill-color);\n",
              "      border-left-color: var(--fill-color);\n",
              "    }\n",
              "    20% {\n",
              "      border-color: transparent;\n",
              "      border-left-color: var(--fill-color);\n",
              "      border-top-color: var(--fill-color);\n",
              "    }\n",
              "    30% {\n",
              "      border-color: transparent;\n",
              "      border-left-color: var(--fill-color);\n",
              "      border-top-color: var(--fill-color);\n",
              "      border-right-color: var(--fill-color);\n",
              "    }\n",
              "    40% {\n",
              "      border-color: transparent;\n",
              "      border-right-color: var(--fill-color);\n",
              "      border-top-color: var(--fill-color);\n",
              "    }\n",
              "    60% {\n",
              "      border-color: transparent;\n",
              "      border-right-color: var(--fill-color);\n",
              "    }\n",
              "    80% {\n",
              "      border-color: transparent;\n",
              "      border-right-color: var(--fill-color);\n",
              "      border-bottom-color: var(--fill-color);\n",
              "    }\n",
              "    90% {\n",
              "      border-color: transparent;\n",
              "      border-bottom-color: var(--fill-color);\n",
              "    }\n",
              "  }\n",
              "</style>\n",
              "\n",
              "  <script>\n",
              "    async function quickchart(key) {\n",
              "      const quickchartButtonEl =\n",
              "        document.querySelector('#' + key + ' button');\n",
              "      quickchartButtonEl.disabled = true;  // To prevent multiple clicks.\n",
              "      quickchartButtonEl.classList.add('colab-df-spinner');\n",
              "      try {\n",
              "        const charts = await google.colab.kernel.invokeFunction(\n",
              "            'suggestCharts', [key], {});\n",
              "      } catch (error) {\n",
              "        console.error('Error during call to suggestCharts:', error);\n",
              "      }\n",
              "      quickchartButtonEl.classList.remove('colab-df-spinner');\n",
              "      quickchartButtonEl.classList.add('colab-df-quickchart-complete');\n",
              "    }\n",
              "    (() => {\n",
              "      let quickchartButtonEl =\n",
              "        document.querySelector('#df-d0000381-46cb-423b-a640-2c1540a7355a button');\n",
              "      quickchartButtonEl.style.display =\n",
              "        google.colab.kernel.accessAllowed ? 'block' : 'none';\n",
              "    })();\n",
              "  </script>\n",
              "</div>\n",
              "    </div>\n",
              "  </div>\n"
            ],
            "text/plain": [
              "   step      type    amount     nameOrig  oldbalanceOrg  newbalanceOrig  \\\n",
              "0     1   PAYMENT   9839.64  C1231006815       170136.0       160296.36   \n",
              "1     1   PAYMENT   1864.28  C1666544295        21249.0        19384.72   \n",
              "2     1  TRANSFER    181.00  C1305486145          181.0            0.00   \n",
              "3     1  CASH_OUT    181.00   C840083671          181.0            0.00   \n",
              "4     1   PAYMENT  11668.14  C2048537720        41554.0        29885.86   \n",
              "\n",
              "      nameDest  oldbalanceDest  newbalanceDest  isFraud  isFlaggedFraud  \n",
              "0  M1979787155             0.0             0.0      0.0             0.0  \n",
              "1  M2044282225             0.0             0.0      0.0             0.0  \n",
              "2   C553264065             0.0             0.0      1.0             0.0  \n",
              "3    C38997010         21182.0             0.0      1.0             0.0  \n",
              "4  M1230701703             0.0             0.0      0.0             0.0  "
            ]
          },
          "execution_count": 76,
          "metadata": {},
          "output_type": "execute_result"
        }
      ],
      "source": [
        "data.head(5)"
      ],
      "id": "1392a916-4ae6-4c11-8c8b-2c0d165ac8a0"
    },
    {
      "cell_type": "markdown",
      "metadata": {
        "id": "c587f62e-a306-4e51-be2f-89273cc130dd"
      },
      "source": [
        "### Obtaining data info"
      ],
      "id": "c587f62e-a306-4e51-be2f-89273cc130dd"
    },
    {
      "cell_type": "code",
      "execution_count": null,
      "metadata": {
        "colab": {
          "base_uri": "https://localhost:8080/"
        },
        "id": "aebeec5f-0fc0-4cb4-840e-4a41aae6c4e0",
        "outputId": "588e6bdc-7421-429b-e78c-cc6167ebdff4"
      },
      "outputs": [
        {
          "name": "stdout",
          "output_type": "stream",
          "text": [
            "<class 'pandas.core.frame.DataFrame'>\n",
            "RangeIndex: 5462553 entries, 0 to 5462552\n",
            "Data columns (total 11 columns):\n",
            " #   Column          Dtype  \n",
            "---  ------          -----  \n",
            " 0   step            int64  \n",
            " 1   type            object \n",
            " 2   amount          float64\n",
            " 3   nameOrig        object \n",
            " 4   oldbalanceOrg   float64\n",
            " 5   newbalanceOrig  float64\n",
            " 6   nameDest        object \n",
            " 7   oldbalanceDest  float64\n",
            " 8   newbalanceDest  float64\n",
            " 9   isFraud         float64\n",
            " 10  isFlaggedFraud  float64\n",
            "dtypes: float64(7), int64(1), object(3)\n",
            "memory usage: 458.4+ MB\n"
          ]
        }
      ],
      "source": [
        "data.info()"
      ],
      "id": "aebeec5f-0fc0-4cb4-840e-4a41aae6c4e0"
    },
    {
      "cell_type": "code",
      "execution_count": null,
      "metadata": {
        "colab": {
          "base_uri": "https://localhost:8080/"
        },
        "id": "3ef84dd1-d848-4e3d-83e7-8e8122902a81",
        "outputId": "e2d81041-2aba-4df2-d36b-c2df6d4ff26e"
      },
      "outputs": [
        {
          "data": {
            "text/plain": [
              "(5462553, 11)"
            ]
          },
          "execution_count": 78,
          "metadata": {},
          "output_type": "execute_result"
        }
      ],
      "source": [
        "data.shape"
      ],
      "id": "3ef84dd1-d848-4e3d-83e7-8e8122902a81"
    },
    {
      "cell_type": "markdown",
      "metadata": {
        "id": "6b72e500-b24b-44e1-8f5a-52e760895d81"
      },
      "source": [
        "## Data Cleaning"
      ],
      "id": "6b72e500-b24b-44e1-8f5a-52e760895d81"
    },
    {
      "cell_type": "markdown",
      "metadata": {
        "id": "5b82ca53-3544-4cfb-84e7-165d216c07dc"
      },
      "source": [
        "### Checking for missing values"
      ],
      "id": "5b82ca53-3544-4cfb-84e7-165d216c07dc"
    },
    {
      "cell_type": "code",
      "execution_count": null,
      "metadata": {
        "colab": {
          "base_uri": "https://localhost:8080/",
          "height": 582
        },
        "id": "8ed401dd-dbde-4017-ab5a-3ca98827e4e5",
        "outputId": "51869d91-a3bd-4ea7-8cb8-1ffd5f3a1a10"
      },
      "outputs": [
        {
          "data": {
            "text/plain": [
              "<Axes: >"
            ]
          },
          "execution_count": 79,
          "metadata": {},
          "output_type": "execute_result"
        },
        {
          "data": {
            "image/png": "[encoded data removed]",
            "text/plain": [
              "<Figure size 2500x1000 with 3 Axes>"
            ]
          },
          "metadata": {},
          "output_type": "display_data"
        }
      ],
      "source": [
        "msno.bar(data)"
      ],
      "id": "8ed401dd-dbde-4017-ab5a-3ca98827e4e5"
    },
    {
      "cell_type": "markdown",
      "metadata": {
        "id": "5f4b5ed0-5559-4422-a665-263dcc831b42"
      },
      "source": [
        "#### All columns show 100% completed data records!"
      ],
      "id": "5f4b5ed0-5559-4422-a665-263dcc831b42"
    },
    {
      "cell_type": "markdown",
      "metadata": {
        "id": "c396e277-ecd5-44ed-a242-418fa245882a"
      },
      "source": [
        "### Number of duplicates in data"
      ],
      "id": "c396e277-ecd5-44ed-a242-418fa245882a"
    },
    {
      "cell_type": "code",
      "execution_count": null,
      "metadata": {
        "colab": {
          "base_uri": "https://localhost:8080/"
        },
        "id": "c323bf01-4405-4c89-a45e-1b4a123605d4",
        "outputId": "89f8ec15-9d50-4ad5-b6bf-521e39a95c29"
      },
      "outputs": [
        {
          "data": {
            "text/plain": [
              "0"
            ]
          },
          "execution_count": 80,
          "metadata": {},
          "output_type": "execute_result"
        }
      ],
      "source": [
        "data.duplicated().sum()"
      ],
      "id": "c323bf01-4405-4c89-a45e-1b4a123605d4"
    },
    {
      "cell_type": "markdown",
      "metadata": {
        "id": "0b212d7c-e6ab-4369-a01c-18b99032db38"
      },
      "source": [
        "### Renaming columns"
      ],
      "id": "0b212d7c-e6ab-4369-a01c-18b99032db38"
    },
    {
      "cell_type": "code",
      "execution_count": null,
      "metadata": {
        "id": "2a4dae3f-acb3-4f27-8cec-74ad7c28bac3"
      },
      "outputs": [],
      "source": [
        "data = data.rename(columns = {'nameOrig':'origin', 'oldbalanceOrg':'sender_old_bal', 'newbalanceOrig':'sender_new_bal', 'nameDest':'dest', 'oldbalanceDest':'dest_old_bal', 'newbalanceDest':'dest_new_bal'})"
      ],
      "id": "2a4dae3f-acb3-4f27-8cec-74ad7c28bac3"
    },
    {
      "cell_type": "markdown",
      "metadata": {
        "id": "0c23ae86-cd40-4bd3-9e77-fa2b0e6236d7"
      },
      "source": [
        "### Removing non-essential columns"
      ],
      "id": "0c23ae86-cd40-4bd3-9e77-fa2b0e6236d7"
    },
    {
      "cell_type": "code",
      "execution_count": null,
      "metadata": {
        "id": "658c32a3-9250-4d80-a1a8-20e16e07f9a6"
      },
      "outputs": [],
      "source": [
        "data = data.drop(columns = ['step', 'isFlaggedFraud'], axis='columns')"
      ],
      "id": "658c32a3-9250-4d80-a1a8-20e16e07f9a6"
    },
    {
      "cell_type": "markdown",
      "metadata": {
        "id": "d6690d7d-f628-4bbc-b950-e03acd02075d"
      },
      "source": [
        "### Viewing modified data"
      ],
      "id": "d6690d7d-f628-4bbc-b950-e03acd02075d"
    },
    {
      "cell_type": "code",
      "execution_count": null,
      "metadata": {
        "colab": {
          "base_uri": "https://localhost:8080/",
          "height": 206
        },
        "id": "58568fda-39e6-41a1-adad-fa3a1a8559b9",
        "outputId": "19b772d7-114e-417f-ab4e-d632d45c6c64"
      },
      "outputs": [
        {
          "data": {
            "text/html": [
              "\n",
              "  <div id=\"df-3a2045d0-55ad-4590-a324-4c52b573772e\" class=\"colab-df-container\">\n",
              "    <div>\n",
              "<style scoped>\n",
              "    .dataframe tbody tr th:only-of-type {\n",
              "        vertical-align: middle;\n",
              "    }\n",
              "\n",
              "    .dataframe tbody tr th {\n",
              "        vertical-align: top;\n",
              "    }\n",
              "\n",
              "    .dataframe thead th {\n",
              "        text-align: right;\n",
              "    }\n",
              "</style>\n",
              "<table border=\"1\" class=\"dataframe\">\n",
              "  <thead>\n",
              "    <tr style=\"text-align: right;\">\n",
              "      <th></th>\n",
              "      <th>type</th>\n",
              "      <th>amount</th>\n",
              "      <th>origin</th>\n",
              "      <th>sender_old_bal</th>\n",
              "      <th>sender_new_bal</th>\n",
              "      <th>dest</th>\n",
              "      <th>dest_old_bal</th>\n",
              "      <th>dest_new_bal</th>\n",
              "      <th>isFraud</th>\n",
              "    </tr>\n",
              "  </thead>\n",
              "  <tbody>\n",
              "    <tr>\n",
              "      <th>0</th>\n",
              "      <td>PAYMENT</td>\n",
              "      <td>9839.64</td>\n",
              "      <td>C1231006815</td>\n",
              "      <td>170136.0</td>\n",
              "      <td>160296.36</td>\n",
              "      <td>M1979787155</td>\n",
              "      <td>0.0</td>\n",
              "      <td>0.0</td>\n",
              "      <td>0.0</td>\n",
              "    </tr>\n",
              "    <tr>\n",
              "      <th>1</th>\n",
              "      <td>PAYMENT</td>\n",
              "      <td>1864.28</td>\n",
              "      <td>C1666544295</td>\n",
              "      <td>21249.0</td>\n",
              "      <td>19384.72</td>\n",
              "      <td>M2044282225</td>\n",
              "      <td>0.0</td>\n",
              "      <td>0.0</td>\n",
              "      <td>0.0</td>\n",
              "    </tr>\n",
              "    <tr>\n",
              "      <th>2</th>\n",
              "      <td>TRANSFER</td>\n",
              "      <td>181.00</td>\n",
              "      <td>C1305486145</td>\n",
              "      <td>181.0</td>\n",
              "      <td>0.00</td>\n",
              "      <td>C553264065</td>\n",
              "      <td>0.0</td>\n",
              "      <td>0.0</td>\n",
              "      <td>1.0</td>\n",
              "    </tr>\n",
              "    <tr>\n",
              "      <th>3</th>\n",
              "      <td>CASH_OUT</td>\n",
              "      <td>181.00</td>\n",
              "      <td>C840083671</td>\n",
              "      <td>181.0</td>\n",
              "      <td>0.00</td>\n",
              "      <td>C38997010</td>\n",
              "      <td>21182.0</td>\n",
              "      <td>0.0</td>\n",
              "      <td>1.0</td>\n",
              "    </tr>\n",
              "    <tr>\n",
              "      <th>4</th>\n",
              "      <td>PAYMENT</td>\n",
              "      <td>11668.14</td>\n",
              "      <td>C2048537720</td>\n",
              "      <td>41554.0</td>\n",
              "      <td>29885.86</td>\n",
              "      <td>M1230701703</td>\n",
              "      <td>0.0</td>\n",
              "      <td>0.0</td>\n",
              "      <td>0.0</td>\n",
              "    </tr>\n",
              "  </tbody>\n",
              "</table>\n",
              "</div>\n",
              "    <div class=\"colab-df-buttons\">\n",
              "\n",
              "  <div class=\"colab-df-container\">\n",
              "    <button class=\"colab-df-convert\" onclick=\"convertToInteractive('df-3a2045d0-55ad-4590-a324-4c52b573772e')\"\n",
              "            title=\"Convert this dataframe to an interactive table.\"\n",
              "            style=\"display:none;\">\n",
              "\n",
              "  <svg xmlns=\"http://www.w3.org/2000/svg\" height=\"24px\" viewBox=\"0 -960 960 960\">\n",
              "    <path d=\"M120-120v-720h720v720H120Zm60-500h600v-160H180v160Zm220 220h160v-160H400v160Zm0 220h160v-160H400v160ZM180-400h160v-160H180v160Zm440 0h160v-160H620v160ZM180-180h160v-160H180v160Zm440 0h160v-160H620v160Z\"/>\n",
              "  </svg>\n",
              "    </button>\n",
              "\n",
              "  <style>\n",
              "    .colab-df-container {\n",
              "      display:flex;\n",
              "      gap: 12px;\n",
              "    }\n",
              "\n",
              "    .colab-df-convert {\n",
              "      background-color: #E8F0FE;\n",
              "      border: none;\n",
              "      border-radius: 50%;\n",
              "      cursor: pointer;\n",
              "      display: none;\n",
              "      fill: #1967D2;\n",
              "      height: 32px;\n",
              "      padding: 0 0 0 0;\n",
              "      width: 32px;\n",
              "    }\n",
              "\n",
              "    .colab-df-convert:hover {\n",
              "      background-color: #E2EBFA;\n",
              "      box-shadow: 0px 1px 2px rgba(60, 64, 67, 0.3), 0px 1px 3px 1px rgba(60, 64, 67, 0.15);\n",
              "      fill: #174EA6;\n",
              "    }\n",
              "\n",
              "    .colab-df-buttons div {\n",
              "      margin-bottom: 4px;\n",
              "    }\n",
              "\n",
              "    [theme=dark] .colab-df-convert {\n",
              "      background-color: #3B4455;\n",
              "      fill: #D2E3FC;\n",
              "    }\n",
              "\n",
              "    [theme=dark] .colab-df-convert:hover {\n",
              "      background-color: #434B5C;\n",
              "      box-shadow: 0px 1px 3px 1px rgba(0, 0, 0, 0.15);\n",
              "      filter: drop-shadow(0px 1px 2px rgba(0, 0, 0, 0.3));\n",
              "      fill: #FFFFFF;\n",
              "    }\n",
              "  </style>\n",
              "\n",
              "    <script>\n",
              "      const buttonEl =\n",
              "        document.querySelector('#df-3a2045d0-55ad-4590-a324-4c52b573772e button.colab-df-convert');\n",
              "      buttonEl.style.display =\n",
              "        google.colab.kernel.accessAllowed ? 'block' : 'none';\n",
              "\n",
              "      async function convertToInteractive(key) {\n",
              "        const element = document.querySelector('#df-3a2045d0-55ad-4590-a324-4c52b573772e');\n",
              "        const dataTable =\n",
              "          await google.colab.kernel.invokeFunction('convertToInteractive',\n",
              "                                                    [key], {});\n",
              "        if (!dataTable) return;\n",
              "\n",
              "        const docLinkHtml = 'Like what you see? Visit the ' +\n",
              "          '<a target=\"_blank\" href=https://colab.research.google.com/notebooks/data_table.ipynb>data table notebook</a>'\n",
              "          + ' to learn more about interactive tables.';\n",
              "        element.innerHTML = '';\n",
              "        dataTable['output_type'] = 'display_data';\n",
              "        await google.colab.output.renderOutput(dataTable, element);\n",
              "        const docLink = document.createElement('div');\n",
              "        docLink.innerHTML = docLinkHtml;\n",
              "        element.appendChild(docLink);\n",
              "      }\n",
              "    </script>\n",
              "  </div>\n",
              "\n",
              "\n",
              "<div id=\"df-84f314f5-df19-40f4-be0d-3a544b3f0b9d\">\n",
              "  <button class=\"colab-df-quickchart\" onclick=\"quickchart('df-84f314f5-df19-40f4-be0d-3a544b3f0b9d')\"\n",
              "            title=\"Suggest charts.\"\n",
              "            style=\"display:none;\">\n",
              "\n",
              "<svg xmlns=\"http://www.w3.org/2000/svg\" height=\"24px\"viewBox=\"0 0 24 24\"\n",
              "     width=\"24px\">\n",
              "    <g>\n",
              "        <path d=\"M19 3H5c-1.1 0-2 .9-2 2v14c0 1.1.9 2 2 2h14c1.1 0 2-.9 2-2V5c0-1.1-.9-2-2-2zM9 17H7v-7h2v7zm4 0h-2V7h2v10zm4 0h-2v-4h2v4z\"/>\n",
              "    </g>\n",
              "</svg>\n",
              "  </button>\n",
              "\n",
              "<style>\n",
              "  .colab-df-quickchart {\n",
              "      --bg-color: #E8F0FE;\n",
              "      --fill-color: #1967D2;\n",
              "      --hover-bg-color: #E2EBFA;\n",
              "      --hover-fill-color: #174EA6;\n",
              "      --disabled-fill-color: #AAA;\n",
              "      --disabled-bg-color: #DDD;\n",
              "  }\n",
              "\n",
              "  [theme=dark] .colab-df-quickchart {\n",
              "      --bg-color: #3B4455;\n",
              "      --fill-color: #D2E3FC;\n",
              "      --hover-bg-color: #434B5C;\n",
              "      --hover-fill-color: #FFFFFF;\n",
              "      --disabled-bg-color: #3B4455;\n",
              "      --disabled-fill-color: #666;\n",
              "  }\n",
              "\n",
              "  .colab-df-quickchart {\n",
              "    background-color: var(--bg-color);\n",
              "    border: none;\n",
              "    border-radius: 50%;\n",
              "    cursor: pointer;\n",
              "    display: none;\n",
              "    fill: var(--fill-color);\n",
              "    height: 32px;\n",
              "    padding: 0;\n",
              "    width: 32px;\n",
              "  }\n",
              "\n",
              "  .colab-df-quickchart:hover {\n",
              "    background-color: var(--hover-bg-color);\n",
              "    box-shadow: 0 1px 2px rgba(60, 64, 67, 0.3), 0 1px 3px 1px rgba(60, 64, 67, 0.15);\n",
              "    fill: var(--button-hover-fill-color);\n",
              "  }\n",
              "\n",
              "  .colab-df-quickchart-complete:disabled,\n",
              "  .colab-df-quickchart-complete:disabled:hover {\n",
              "    background-color: var(--disabled-bg-color);\n",
              "    fill: var(--disabled-fill-color);\n",
              "    box-shadow: none;\n",
              "  }\n",
              "\n",
              "  .colab-df-spinner {\n",
              "    border: 2px solid var(--fill-color);\n",
              "    border-color: transparent;\n",
              "    border-bottom-color: var(--fill-color);\n",
              "    animation:\n",
              "      spin 1s steps(1) infinite;\n",
              "  }\n",
              "\n",
              "  @keyframes spin {\n",
              "    0% {\n",
              "      border-color: transparent;\n",
              "      border-bottom-color: var(--fill-color);\n",
              "      border-left-color: var(--fill-color);\n",
              "    }\n",
              "    20% {\n",
              "      border-color: transparent;\n",
              "      border-left-color: var(--fill-color);\n",
              "      border-top-color: var(--fill-color);\n",
              "    }\n",
              "    30% {\n",
              "      border-color: transparent;\n",
              "      border-left-color: var(--fill-color);\n",
              "      border-top-color: var(--fill-color);\n",
              "      border-right-color: var(--fill-color);\n",
              "    }\n",
              "    40% {\n",
              "      border-color: transparent;\n",
              "      border-right-color: var(--fill-color);\n",
              "      border-top-color: var(--fill-color);\n",
              "    }\n",
              "    60% {\n",
              "      border-color: transparent;\n",
              "      border-right-color: var(--fill-color);\n",
              "    }\n",
              "    80% {\n",
              "      border-color: transparent;\n",
              "      border-right-color: var(--fill-color);\n",
              "      border-bottom-color: var(--fill-color);\n",
              "    }\n",
              "    90% {\n",
              "      border-color: transparent;\n",
              "      border-bottom-color: var(--fill-color);\n",
              "    }\n",
              "  }\n",
              "</style>\n",
              "\n",
              "  <script>\n",
              "    async function quickchart(key) {\n",
              "      const quickchartButtonEl =\n",
              "        document.querySelector('#' + key + ' button');\n",
              "      quickchartButtonEl.disabled = true;  // To prevent multiple clicks.\n",
              "      quickchartButtonEl.classList.add('colab-df-spinner');\n",
              "      try {\n",
              "        const charts = await google.colab.kernel.invokeFunction(\n",
              "            'suggestCharts', [key], {});\n",
              "      } catch (error) {\n",
              "        console.error('Error during call to suggestCharts:', error);\n",
              "      }\n",
              "      quickchartButtonEl.classList.remove('colab-df-spinner');\n",
              "      quickchartButtonEl.classList.add('colab-df-quickchart-complete');\n",
              "    }\n",
              "    (() => {\n",
              "      let quickchartButtonEl =\n",
              "        document.querySelector('#df-84f314f5-df19-40f4-be0d-3a544b3f0b9d button');\n",
              "      quickchartButtonEl.style.display =\n",
              "        google.colab.kernel.accessAllowed ? 'block' : 'none';\n",
              "    })();\n",
              "  </script>\n",
              "</div>\n",
              "    </div>\n",
              "  </div>\n"
            ],
            "text/plain": [
              "       type    amount       origin  sender_old_bal  sender_new_bal  \\\n",
              "0   PAYMENT   9839.64  C1231006815        170136.0       160296.36   \n",
              "1   PAYMENT   1864.28  C1666544295         21249.0        19384.72   \n",
              "2  TRANSFER    181.00  C1305486145           181.0            0.00   \n",
              "3  CASH_OUT    181.00   C840083671           181.0            0.00   \n",
              "4   PAYMENT  11668.14  C2048537720         41554.0        29885.86   \n",
              "\n",
              "          dest  dest_old_bal  dest_new_bal  isFraud  \n",
              "0  M1979787155           0.0           0.0      0.0  \n",
              "1  M2044282225           0.0           0.0      0.0  \n",
              "2   C553264065           0.0           0.0      1.0  \n",
              "3    C38997010       21182.0           0.0      1.0  \n",
              "4  M1230701703           0.0           0.0      0.0  "
            ]
          },
          "execution_count": 83,
          "metadata": {},
          "output_type": "execute_result"
        }
      ],
      "source": [
        "data.head()"
      ],
      "id": "58568fda-39e6-41a1-adad-fa3a1a8559b9"
    },
    {
      "cell_type": "markdown",
      "metadata": {
        "id": "072241c8-4b0f-4638-bf83-71999dc4d82d"
      },
      "source": [
        "## Data Analysis"
      ],
      "id": "072241c8-4b0f-4638-bf83-71999dc4d82d"
    },
    {
      "cell_type": "markdown",
      "metadata": {
        "id": "8cf61e65-7ff3-42ce-a9dd-18cbbe3927c6"
      },
      "source": [
        "### Visualizing fraud occurances"
      ],
      "id": "8cf61e65-7ff3-42ce-a9dd-18cbbe3927c6"
    },
    {
      "cell_type": "code",
      "execution_count": null,
      "metadata": {
        "colab": {
          "base_uri": "https://localhost:8080/",
          "height": 645
        },
        "id": "94fe6955-b24f-4188-a04d-39de3975b3a5",
        "outputId": "c5c9ae40-7c57-4c91-db9b-c34cf6cbaca0"
      },
      "outputs": [
        {
          "data": {
            "image/png": "[encoded data removed]",
            "text/plain": [
              "<Figure size 1500x800 with 1 Axes>"
            ]
          },
          "metadata": {},
          "output_type": "display_data"
        }
      ],
      "source": [
        "plt.figure(figsize=(15,8))\n",
        "g = sns.countplot(data=data, x='type', hue='isFraud', palette='dark',alpha=0.6)\n",
        "plt.title(\"Checking for fraud occurances for each Transaction types\")\n",
        "\n",
        "#finding counts\n",
        "for p in g.patches:\n",
        "    g.annotate(p.get_height(), (p.get_x()+0.04, p.get_height()+10000))"
      ],
      "id": "94fe6955-b24f-4188-a04d-39de3975b3a5"
    },
    {
      "cell_type": "code",
      "execution_count": null,
      "metadata": {
        "id": "LZAvZQotUWkP"
      },
      "outputs": [],
      "source": [],
      "id": "LZAvZQotUWkP"
    },
    {
      "cell_type": "markdown",
      "metadata": {
        "id": "5e5105d0-3cba-48de-9afb-22ff10940a27"
      },
      "source": [
        "### Accounts involved in fraud transactions"
      ],
      "id": "5e5105d0-3cba-48de-9afb-22ff10940a27"
    },
    {
      "cell_type": "markdown",
      "metadata": {
        "id": "cc72c940-fe2d-423f-b35a-0d91ad792cea"
      },
      "source": [
        "#### Checking origin accounts (and if same account has been used for multiple fraudulent transactions)"
      ],
      "id": "cc72c940-fe2d-423f-b35a-0d91ad792cea"
    },
    {
      "cell_type": "markdown",
      "metadata": {
        "id": "a14d7dc8-1abb-48d4-9f76-b8af7370ff8e"
      },
      "source": [
        "##### For type 'Transfer'"
      ],
      "id": "a14d7dc8-1abb-48d4-9f76-b8af7370ff8e"
    },
    {
      "cell_type": "code",
      "execution_count": null,
      "metadata": {
        "id": "5c25a500-e783-41e2-963b-dca821a6a3dd"
      },
      "outputs": [],
      "source": [
        "transfer_fraud = data[(data['type']=='TRANSFER') & (data['isFraud']==1)]"
      ],
      "id": "5c25a500-e783-41e2-963b-dca821a6a3dd"
    },
    {
      "cell_type": "code",
      "execution_count": null,
      "metadata": {
        "colab": {
          "base_uri": "https://localhost:8080/"
        },
        "id": "4dc208cc-87a8-4341-8094-3f77629b6bbe",
        "outputId": "3f26b8e1-03ac-4f20-d9f4-00f805306cba"
      },
      "outputs": [
        {
          "data": {
            "text/plain": [
              "C1305486145    1\n",
              "C1100582606    1\n",
              "C2099141021    1\n",
              "C395312314     1\n",
              "C1442710040    1\n",
              "              ..\n",
              "C1049419908    1\n",
              "C562878740     1\n",
              "C1265971736    1\n",
              "C117760847     1\n",
              "C1500954135    1\n",
              "Name: origin, Length: 2099, dtype: int64"
            ]
          },
          "execution_count": 86,
          "metadata": {},
          "output_type": "execute_result"
        }
      ],
      "source": [
        "transfer_fraud['origin'].value_counts()"
      ],
      "id": "4dc208cc-87a8-4341-8094-3f77629b6bbe"
    },
    {
      "cell_type": "markdown",
      "metadata": {
        "id": "826dbf07-e1fe-4b06-8209-73a25634599f"
      },
      "source": [
        "##### For type 'CashOut'"
      ],
      "id": "826dbf07-e1fe-4b06-8209-73a25634599f"
    },
    {
      "cell_type": "code",
      "execution_count": null,
      "metadata": {
        "id": "7573ebeb-1d14-454c-9645-76575b6885f2"
      },
      "outputs": [],
      "source": [
        "cashOut_fraud = data[(data['type']=='CASH_OUT') & (data['isFraud']==1)]"
      ],
      "id": "7573ebeb-1d14-454c-9645-76575b6885f2"
    },
    {
      "cell_type": "code",
      "execution_count": null,
      "metadata": {
        "colab": {
          "base_uri": "https://localhost:8080/"
        },
        "id": "1b9cb189-3ffe-4fe3-990b-4e1324ec10cc",
        "outputId": "bdf0692a-7c5d-4c70-c5c7-2524dab6681a"
      },
      "outputs": [
        {
          "data": {
            "text/plain": [
              "C840083671     1\n",
              "C1171108615    1\n",
              "C37928805      1\n",
              "C1263272342    1\n",
              "C1207384939    1\n",
              "              ..\n",
              "C1498577424    1\n",
              "C1700746062    1\n",
              "C248036406     1\n",
              "C1592208539    1\n",
              "C2031058034    1\n",
              "Name: origin, Length: 2118, dtype: int64"
            ]
          },
          "execution_count": 88,
          "metadata": {},
          "output_type": "execute_result"
        }
      ],
      "source": [
        "cashOut_fraud['origin'].value_counts()"
      ],
      "id": "1b9cb189-3ffe-4fe3-990b-4e1324ec10cc"
    },
    {
      "cell_type": "markdown",
      "metadata": {
        "id": "e0a8ce5a-c2a6-4f44-806e-1c037d6969b9"
      },
      "source": [
        "#### Checking destination accounts (and if same account has been used for multiple fraudulent transactions)"
      ],
      "id": "e0a8ce5a-c2a6-4f44-806e-1c037d6969b9"
    },
    {
      "cell_type": "markdown",
      "metadata": {
        "id": "62699c00-79bb-4887-91e4-41f315ad0eb2"
      },
      "source": [
        "##### For type 'Transfer'"
      ],
      "id": "62699c00-79bb-4887-91e4-41f315ad0eb2"
    },
    {
      "cell_type": "code",
      "execution_count": null,
      "metadata": {
        "colab": {
          "base_uri": "https://localhost:8080/"
        },
        "id": "8b147fda-1e4b-4764-990f-0ebbf22b93c8",
        "outputId": "49d4e2fa-9750-4cc2-f9a9-3bfe060c238b"
      },
      "outputs": [
        {
          "data": {
            "text/plain": [
              "C553264065     1\n",
              "C1147517658    1\n",
              "C1733297456    1\n",
              "C554878096     1\n",
              "C1844625482    1\n",
              "              ..\n",
              "C713376763     1\n",
              "C270375529     1\n",
              "C806590394     1\n",
              "C578681858     1\n",
              "C1753438531    1\n",
              "Name: dest, Length: 2099, dtype: int64"
            ]
          },
          "execution_count": 89,
          "metadata": {},
          "output_type": "execute_result"
        }
      ],
      "source": [
        "transfer_fraud['dest'].value_counts()"
      ],
      "id": "8b147fda-1e4b-4764-990f-0ebbf22b93c8"
    },
    {
      "cell_type": "markdown",
      "metadata": {
        "id": "b5a8b846-fedd-43e8-93a7-777ddede21d9"
      },
      "source": [
        "##### For type 'CashOut'"
      ],
      "id": "b5a8b846-fedd-43e8-93a7-777ddede21d9"
    },
    {
      "cell_type": "code",
      "execution_count": null,
      "metadata": {
        "colab": {
          "base_uri": "https://localhost:8080/"
        },
        "id": "3c65c8a2-5a46-4407-b5da-37fe209cca60",
        "outputId": "824dd747-5462-4dc8-9113-53fcd12ecd77"
      },
      "outputs": [
        {
          "data": {
            "text/plain": [
              "C2020337583    2\n",
              "C1497532505    2\n",
              "C803116137     2\n",
              "C1981613973    2\n",
              "C105660024     2\n",
              "              ..\n",
              "C1404789740    1\n",
              "C112858734     1\n",
              "C1506005745    1\n",
              "C1451093652    1\n",
              "C413925568     1\n",
              "Name: dest, Length: 2104, dtype: int64"
            ]
          },
          "execution_count": 90,
          "metadata": {},
          "output_type": "execute_result"
        }
      ],
      "source": [
        "cashOut_fraud['dest'].value_counts()"
      ],
      "id": "3c65c8a2-5a46-4407-b5da-37fe209cca60"
    },
    {
      "cell_type": "markdown",
      "metadata": {
        "id": "c6f2b058-4063-4134-a15b-a782cfb8a129"
      },
      "source": [
        "### Checking if transfer destination account used for cashing out (for fraud cases)"
      ],
      "id": "c6f2b058-4063-4134-a15b-a782cfb8a129"
    },
    {
      "cell_type": "code",
      "execution_count": null,
      "metadata": {
        "colab": {
          "base_uri": "https://localhost:8080/"
        },
        "id": "9d3d2610-2143-4b1a-bc44-4a7810d73cb0",
        "outputId": "2ad09e52-4997-4401-d3b5-68acd0dbb1ee"
      },
      "outputs": [
        {
          "data": {
            "text/plain": [
              "False"
            ]
          },
          "execution_count": 91,
          "metadata": {},
          "output_type": "execute_result"
        }
      ],
      "source": [
        "transfer_fraud.dest.isin(cashOut_fraud.origin).any()"
      ],
      "id": "9d3d2610-2143-4b1a-bc44-4a7810d73cb0"
    },
    {
      "cell_type": "code",
      "execution_count": null,
      "metadata": {
        "id": "44de3969-6910-48d1-9a1e-32d2d450b15e"
      },
      "outputs": [],
      "source": [
        "trans_cashout = data[data['type']=='TRANSFER']"
      ],
      "id": "44de3969-6910-48d1-9a1e-32d2d450b15e"
    },
    {
      "cell_type": "code",
      "execution_count": null,
      "metadata": {
        "colab": {
          "base_uri": "https://localhost:8080/"
        },
        "id": "29978b8b-0def-4f0c-81bc-8f764b634ad3",
        "outputId": "645a9f54-7e4b-449d-c8ac-6c6b6319dd98"
      },
      "outputs": [
        {
          "data": {
            "text/plain": [
              "False"
            ]
          },
          "execution_count": 93,
          "metadata": {},
          "output_type": "execute_result"
        }
      ],
      "source": [
        "transfer_fraud.dest.isin(trans_cashout.origin).any()"
      ],
      "id": "29978b8b-0def-4f0c-81bc-8f764b634ad3"
    },
    {
      "cell_type": "code",
      "execution_count": null,
      "metadata": {
        "colab": {
          "base_uri": "https://localhost:8080/"
        },
        "id": "cd5cbb38-133b-44ee-b4f3-82186bef12bf",
        "outputId": "4ffc9d43-9461-4c33-8269-e3fafc6d1716"
      },
      "outputs": [
        {
          "data": {
            "text/plain": [
              "2099"
            ]
          },
          "execution_count": 94,
          "metadata": {},
          "output_type": "execute_result"
        }
      ],
      "source": [
        "transfer_fraud.dest.isin(trans_cashout.origin).count()"
      ],
      "id": "cd5cbb38-133b-44ee-b4f3-82186bef12bf"
    },
    {
      "cell_type": "markdown",
      "metadata": {
        "id": "8e4c6723-48e4-4680-a057-672f9924464d"
      },
      "source": [
        "### Insights"
      ],
      "id": "8e4c6723-48e4-4680-a057-672f9924464d"
    },
    {
      "cell_type": "markdown",
      "metadata": {
        "id": "99ba426c-9898-4653-9838-cd60d5a39b6e"
      },
      "source": [
        "<ul>\n",
        "    <li>Fraud Transactions are seen only for 'TRANSFER' (4097 occurances) and 'CASH_OUT' (4116 occurances) types</li>\n",
        "    <li>Fraud tranasactions are usually to and from customers</li>\n",
        "    <li>Recipient accounts fraud 'TRANSFER' cases were -</li>\n",
        "    <ul>\n",
        "        <li>not involved in any fraudulent cash withdrawals</li>\n",
        "        <li>4097 times used to make valid cash withdrawals</li>\n",
        "    </ul>\n",
        "</ul>"
      ],
      "id": "99ba426c-9898-4653-9838-cd60d5a39b6e"
    },
    {
      "cell_type": "markdown",
      "metadata": {
        "id": "40906521-b4be-4e55-8609-7e8e8e53096e"
      },
      "source": [
        "## Feature Engineering"
      ],
      "id": "40906521-b4be-4e55-8609-7e8e8e53096e"
    },
    {
      "cell_type": "markdown",
      "metadata": {
        "id": "702c52bf-ecbc-4575-8f5c-aa972111802d"
      },
      "source": [
        "### Creating new column client_type having 4 categories and dropping 'origin' and 'dest'"
      ],
      "id": "702c52bf-ecbc-4575-8f5c-aa972111802d"
    },
    {
      "cell_type": "markdown",
      "metadata": {
        "id": "e0f58e5e-f8cd-484a-8df6-c9009b257f32"
      },
      "source": [
        "<ul>\n",
        "    <li>CC - Customer to Customer</li>\n",
        "    <li>CM - Customer to Merchant</li>\n",
        "    <li>MC - Merchant to Customer</li>\n",
        "    <li>MM - Merchant to Merchant</li>\n",
        "</ul>"
      ],
      "id": "e0f58e5e-f8cd-484a-8df6-c9009b257f32"
    },
    {
      "cell_type": "markdown",
      "metadata": {
        "id": "4f9bc0c9-256b-4df1-98fa-c8e317f18b9c"
      },
      "source": [
        "#### Adding 'client_type' column"
      ],
      "id": "4f9bc0c9-256b-4df1-98fa-c8e317f18b9c"
    },
    {
      "cell_type": "code",
      "execution_count": null,
      "metadata": {
        "id": "70e875d7-853b-4f0a-8ff4-fd28ce829dc6"
      },
      "outputs": [],
      "source": [
        "data['client_type'] = np.nan\n",
        "data.loc[data.origin.str.contains('C') & data.dest.str.contains('C'), 'client_type'] = 'CC'\n",
        "data.loc[data.origin.str.contains('C') & data.dest.str.contains('M'), 'client_type'] = 'CM'\n",
        "data.loc[data.origin.str.contains('M') & data.dest.str.contains('C'), 'client_type'] = 'MC'\n",
        "data.loc[data.origin.str.contains('M') & data.dest.str.contains('M'), 'client_type'] = 'MM'"
      ],
      "id": "70e875d7-853b-4f0a-8ff4-fd28ce829dc6"
    },
    {
      "cell_type": "markdown",
      "metadata": {
        "id": "d2a955b1-da41-480d-8bc6-80ad7d8faafa"
      },
      "source": [
        "#### Dropping 'origin' and 'dest'"
      ],
      "id": "d2a955b1-da41-480d-8bc6-80ad7d8faafa"
    },
    {
      "cell_type": "code",
      "execution_count": null,
      "metadata": {
        "id": "b709dbeb-5cf5-4e15-9f77-08d9fc41a443"
      },
      "outputs": [],
      "source": [
        "data.drop(columns = ['origin', 'dest'], axis = 'columns', inplace = True)"
      ],
      "id": "b709dbeb-5cf5-4e15-9f77-08d9fc41a443"
    },
    {
      "cell_type": "code",
      "execution_count": null,
      "metadata": {
        "colab": {
          "base_uri": "https://localhost:8080/",
          "height": 206
        },
        "id": "66ee385f-ec13-4fd0-ad8f-9117cd5cf86a",
        "outputId": "d2fbb6ff-d836-4835-e848-82df5c7f6764"
      },
      "outputs": [
        {
          "data": {
            "text/html": [
              "\n",
              "  <div id=\"df-39786080-faec-4aff-8c31-38693d2696c4\" class=\"colab-df-container\">\n",
              "    <div>\n",
              "<style scoped>\n",
              "    .dataframe tbody tr th:only-of-type {\n",
              "        vertical-align: middle;\n",
              "    }\n",
              "\n",
              "    .dataframe tbody tr th {\n",
              "        vertical-align: top;\n",
              "    }\n",
              "\n",
              "    .dataframe thead th {\n",
              "        text-align: right;\n",
              "    }\n",
              "</style>\n",
              "<table border=\"1\" class=\"dataframe\">\n",
              "  <thead>\n",
              "    <tr style=\"text-align: right;\">\n",
              "      <th></th>\n",
              "      <th>type</th>\n",
              "      <th>amount</th>\n",
              "      <th>sender_old_bal</th>\n",
              "      <th>sender_new_bal</th>\n",
              "      <th>dest_old_bal</th>\n",
              "      <th>dest_new_bal</th>\n",
              "      <th>isFraud</th>\n",
              "      <th>client_type</th>\n",
              "    </tr>\n",
              "  </thead>\n",
              "  <tbody>\n",
              "    <tr>\n",
              "      <th>0</th>\n",
              "      <td>PAYMENT</td>\n",
              "      <td>9839.64</td>\n",
              "      <td>170136.0</td>\n",
              "      <td>160296.36</td>\n",
              "      <td>0.0</td>\n",
              "      <td>0.0</td>\n",
              "      <td>0.0</td>\n",
              "      <td>CM</td>\n",
              "    </tr>\n",
              "    <tr>\n",
              "      <th>1</th>\n",
              "      <td>PAYMENT</td>\n",
              "      <td>1864.28</td>\n",
              "      <td>21249.0</td>\n",
              "      <td>19384.72</td>\n",
              "      <td>0.0</td>\n",
              "      <td>0.0</td>\n",
              "      <td>0.0</td>\n",
              "      <td>CM</td>\n",
              "    </tr>\n",
              "    <tr>\n",
              "      <th>2</th>\n",
              "      <td>TRANSFER</td>\n",
              "      <td>181.00</td>\n",
              "      <td>181.0</td>\n",
              "      <td>0.00</td>\n",
              "      <td>0.0</td>\n",
              "      <td>0.0</td>\n",
              "      <td>1.0</td>\n",
              "      <td>CC</td>\n",
              "    </tr>\n",
              "    <tr>\n",
              "      <th>3</th>\n",
              "      <td>CASH_OUT</td>\n",
              "      <td>181.00</td>\n",
              "      <td>181.0</td>\n",
              "      <td>0.00</td>\n",
              "      <td>21182.0</td>\n",
              "      <td>0.0</td>\n",
              "      <td>1.0</td>\n",
              "      <td>CC</td>\n",
              "    </tr>\n",
              "    <tr>\n",
              "      <th>4</th>\n",
              "      <td>PAYMENT</td>\n",
              "      <td>11668.14</td>\n",
              "      <td>41554.0</td>\n",
              "      <td>29885.86</td>\n",
              "      <td>0.0</td>\n",
              "      <td>0.0</td>\n",
              "      <td>0.0</td>\n",
              "      <td>CM</td>\n",
              "    </tr>\n",
              "  </tbody>\n",
              "</table>\n",
              "</div>\n",
              "    <div class=\"colab-df-buttons\">\n",
              "\n",
              "  <div class=\"colab-df-container\">\n",
              "    <button class=\"colab-df-convert\" onclick=\"convertToInteractive('df-39786080-faec-4aff-8c31-38693d2696c4')\"\n",
              "            title=\"Convert this dataframe to an interactive table.\"\n",
              "            style=\"display:none;\">\n",
              "\n",
              "  <svg xmlns=\"http://www.w3.org/2000/svg\" height=\"24px\" viewBox=\"0 -960 960 960\">\n",
              "    <path d=\"M120-120v-720h720v720H120Zm60-500h600v-160H180v160Zm220 220h160v-160H400v160Zm0 220h160v-160H400v160ZM180-400h160v-160H180v160Zm440 0h160v-160H620v160ZM180-180h160v-160H180v160Zm440 0h160v-160H620v160Z\"/>\n",
              "  </svg>\n",
              "    </button>\n",
              "\n",
              "  <style>\n",
              "    .colab-df-container {\n",
              "      display:flex;\n",
              "      gap: 12px;\n",
              "    }\n",
              "\n",
              "    .colab-df-convert {\n",
              "      background-color: #E8F0FE;\n",
              "      border: none;\n",
              "      border-radius: 50%;\n",
              "      cursor: pointer;\n",
              "      display: none;\n",
              "      fill: #1967D2;\n",
              "      height: 32px;\n",
              "      padding: 0 0 0 0;\n",
              "      width: 32px;\n",
              "    }\n",
              "\n",
              "    .colab-df-convert:hover {\n",
              "      background-color: #E2EBFA;\n",
              "      box-shadow: 0px 1px 2px rgba(60, 64, 67, 0.3), 0px 1px 3px 1px rgba(60, 64, 67, 0.15);\n",
              "      fill: #174EA6;\n",
              "    }\n",
              "\n",
              "    .colab-df-buttons div {\n",
              "      margin-bottom: 4px;\n",
              "    }\n",
              "\n",
              "    [theme=dark] .colab-df-convert {\n",
              "      background-color: #3B4455;\n",
              "      fill: #D2E3FC;\n",
              "    }\n",
              "\n",
              "    [theme=dark] .colab-df-convert:hover {\n",
              "      background-color: #434B5C;\n",
              "      box-shadow: 0px 1px 3px 1px rgba(0, 0, 0, 0.15);\n",
              "      filter: drop-shadow(0px 1px 2px rgba(0, 0, 0, 0.3));\n",
              "      fill: #FFFFFF;\n",
              "    }\n",
              "  </style>\n",
              "\n",
              "    <script>\n",
              "      const buttonEl =\n",
              "        document.querySelector('#df-39786080-faec-4aff-8c31-38693d2696c4 button.colab-df-convert');\n",
              "      buttonEl.style.display =\n",
              "        google.colab.kernel.accessAllowed ? 'block' : 'none';\n",
              "\n",
              "      async function convertToInteractive(key) {\n",
              "        const element = document.querySelector('#df-39786080-faec-4aff-8c31-38693d2696c4');\n",
              "        const dataTable =\n",
              "          await google.colab.kernel.invokeFunction('convertToInteractive',\n",
              "                                                    [key], {});\n",
              "        if (!dataTable) return;\n",
              "\n",
              "        const docLinkHtml = 'Like what you see? Visit the ' +\n",
              "          '<a target=\"_blank\" href=https://colab.research.google.com/notebooks/data_table.ipynb>data table notebook</a>'\n",
              "          + ' to learn more about interactive tables.';\n",
              "        element.innerHTML = '';\n",
              "        dataTable['output_type'] = 'display_data';\n",
              "        await google.colab.output.renderOutput(dataTable, element);\n",
              "        const docLink = document.createElement('div');\n",
              "        docLink.innerHTML = docLinkHtml;\n",
              "        element.appendChild(docLink);\n",
              "      }\n",
              "    </script>\n",
              "  </div>\n",
              "\n",
              "\n",
              "<div id=\"df-15713b50-10b9-4b90-a576-6bd54741702f\">\n",
              "  <button class=\"colab-df-quickchart\" onclick=\"quickchart('df-15713b50-10b9-4b90-a576-6bd54741702f')\"\n",
              "            title=\"Suggest charts.\"\n",
              "            style=\"display:none;\">\n",
              "\n",
              "<svg xmlns=\"http://www.w3.org/2000/svg\" height=\"24px\"viewBox=\"0 0 24 24\"\n",
              "     width=\"24px\">\n",
              "    <g>\n",
              "        <path d=\"M19 3H5c-1.1 0-2 .9-2 2v14c0 1.1.9 2 2 2h14c1.1 0 2-.9 2-2V5c0-1.1-.9-2-2-2zM9 17H7v-7h2v7zm4 0h-2V7h2v10zm4 0h-2v-4h2v4z\"/>\n",
              "    </g>\n",
              "</svg>\n",
              "  </button>\n",
              "\n",
              "<style>\n",
              "  .colab-df-quickchart {\n",
              "      --bg-color: #E8F0FE;\n",
              "      --fill-color: #1967D2;\n",
              "      --hover-bg-color: #E2EBFA;\n",
              "      --hover-fill-color: #174EA6;\n",
              "      --disabled-fill-color: #AAA;\n",
              "      --disabled-bg-color: #DDD;\n",
              "  }\n",
              "\n",
              "  [theme=dark] .colab-df-quickchart {\n",
              "      --bg-color: #3B4455;\n",
              "      --fill-color: #D2E3FC;\n",
              "      --hover-bg-color: #434B5C;\n",
              "      --hover-fill-color: #FFFFFF;\n",
              "      --disabled-bg-color: #3B4455;\n",
              "      --disabled-fill-color: #666;\n",
              "  }\n",
              "\n",
              "  .colab-df-quickchart {\n",
              "    background-color: var(--bg-color);\n",
              "    border: none;\n",
              "    border-radius: 50%;\n",
              "    cursor: pointer;\n",
              "    display: none;\n",
              "    fill: var(--fill-color);\n",
              "    height: 32px;\n",
              "    padding: 0;\n",
              "    width: 32px;\n",
              "  }\n",
              "\n",
              "  .colab-df-quickchart:hover {\n",
              "    background-color: var(--hover-bg-color);\n",
              "    box-shadow: 0 1px 2px rgba(60, 64, 67, 0.3), 0 1px 3px 1px rgba(60, 64, 67, 0.15);\n",
              "    fill: var(--button-hover-fill-color);\n",
              "  }\n",
              "\n",
              "  .colab-df-quickchart-complete:disabled,\n",
              "  .colab-df-quickchart-complete:disabled:hover {\n",
              "    background-color: var(--disabled-bg-color);\n",
              "    fill: var(--disabled-fill-color);\n",
              "    box-shadow: none;\n",
              "  }\n",
              "\n",
              "  .colab-df-spinner {\n",
              "    border: 2px solid var(--fill-color);\n",
              "    border-color: transparent;\n",
              "    border-bottom-color: var(--fill-color);\n",
              "    animation:\n",
              "      spin 1s steps(1) infinite;\n",
              "  }\n",
              "\n",
              "  @keyframes spin {\n",
              "    0% {\n",
              "      border-color: transparent;\n",
              "      border-bottom-color: var(--fill-color);\n",
              "      border-left-color: var(--fill-color);\n",
              "    }\n",
              "    20% {\n",
              "      border-color: transparent;\n",
              "      border-left-color: var(--fill-color);\n",
              "      border-top-color: var(--fill-color);\n",
              "    }\n",
              "    30% {\n",
              "      border-color: transparent;\n",
              "      border-left-color: var(--fill-color);\n",
              "      border-top-color: var(--fill-color);\n",
              "      border-right-color: var(--fill-color);\n",
              "    }\n",
              "    40% {\n",
              "      border-color: transparent;\n",
              "      border-right-color: var(--fill-color);\n",
              "      border-top-color: var(--fill-color);\n",
              "    }\n",
              "    60% {\n",
              "      border-color: transparent;\n",
              "      border-right-color: var(--fill-color);\n",
              "    }\n",
              "    80% {\n",
              "      border-color: transparent;\n",
              "      border-right-color: var(--fill-color);\n",
              "      border-bottom-color: var(--fill-color);\n",
              "    }\n",
              "    90% {\n",
              "      border-color: transparent;\n",
              "      border-bottom-color: var(--fill-color);\n",
              "    }\n",
              "  }\n",
              "</style>\n",
              "\n",
              "  <script>\n",
              "    async function quickchart(key) {\n",
              "      const quickchartButtonEl =\n",
              "        document.querySelector('#' + key + ' button');\n",
              "      quickchartButtonEl.disabled = true;  // To prevent multiple clicks.\n",
              "      quickchartButtonEl.classList.add('colab-df-spinner');\n",
              "      try {\n",
              "        const charts = await google.colab.kernel.invokeFunction(\n",
              "            'suggestCharts', [key], {});\n",
              "      } catch (error) {\n",
              "        console.error('Error during call to suggestCharts:', error);\n",
              "      }\n",
              "      quickchartButtonEl.classList.remove('colab-df-spinner');\n",
              "      quickchartButtonEl.classList.add('colab-df-quickchart-complete');\n",
              "    }\n",
              "    (() => {\n",
              "      let quickchartButtonEl =\n",
              "        document.querySelector('#df-15713b50-10b9-4b90-a576-6bd54741702f button');\n",
              "      quickchartButtonEl.style.display =\n",
              "        google.colab.kernel.accessAllowed ? 'block' : 'none';\n",
              "    })();\n",
              "  </script>\n",
              "</div>\n",
              "    </div>\n",
              "  </div>\n"
            ],
            "text/plain": [
              "       type    amount  sender_old_bal  sender_new_bal  dest_old_bal  \\\n",
              "0   PAYMENT   9839.64        170136.0       160296.36           0.0   \n",
              "1   PAYMENT   1864.28         21249.0        19384.72           0.0   \n",
              "2  TRANSFER    181.00           181.0            0.00           0.0   \n",
              "3  CASH_OUT    181.00           181.0            0.00       21182.0   \n",
              "4   PAYMENT  11668.14         41554.0        29885.86           0.0   \n",
              "\n",
              "   dest_new_bal  isFraud client_type  \n",
              "0           0.0      0.0          CM  \n",
              "1           0.0      0.0          CM  \n",
              "2           0.0      1.0          CC  \n",
              "3           0.0      1.0          CC  \n",
              "4           0.0      0.0          CM  "
            ]
          },
          "execution_count": 97,
          "metadata": {},
          "output_type": "execute_result"
        }
      ],
      "source": [
        "data.head()"
      ],
      "id": "66ee385f-ec13-4fd0-ad8f-9117cd5cf86a"
    },
    {
      "cell_type": "markdown",
      "metadata": {
        "id": "fbf870b2-9ffd-4bcd-b7b3-ed0c46a3524b"
      },
      "source": [
        "## Data Visualization"
      ],
      "id": "fbf870b2-9ffd-4bcd-b7b3-ed0c46a3524b"
    },
    {
      "cell_type": "markdown",
      "metadata": {
        "id": "3a105e65-f977-48c0-a71a-852dcdbd5a34"
      },
      "source": [
        "### Obtaining number of fraud transactions and valid transactions of each 'client_type'"
      ],
      "id": "3a105e65-f977-48c0-a71a-852dcdbd5a34"
    },
    {
      "cell_type": "code",
      "execution_count": null,
      "metadata": {
        "id": "d000dbd9-e6a5-475d-981d-4b0736dc4ac2"
      },
      "outputs": [],
      "source": [
        "fraudTrans = data[data['isFraud'] == 1]\n",
        "validTrans = data[data['isFraud'] == 0]"
      ],
      "id": "d000dbd9-e6a5-475d-981d-4b0736dc4ac2"
    },
    {
      "cell_type": "code",
      "execution_count": null,
      "metadata": {
        "colab": {
          "base_uri": "https://localhost:8080/"
        },
        "id": "2fcc5d87-baa3-4cc9-97e6-c200f01d5feb",
        "outputId": "6b2c68a5-ad5b-4a80-cd4b-d6da32f01174"
      },
      "outputs": [
        {
          "name": "stdout",
          "output_type": "stream",
          "text": [
            "CC    4217\n",
            "Name: client_type, dtype: int64\n"
          ]
        }
      ],
      "source": [
        "fr = fraudTrans.client_type.value_counts()\n",
        "print(fr)"
      ],
      "id": "2fcc5d87-baa3-4cc9-97e6-c200f01d5feb"
    },
    {
      "cell_type": "code",
      "execution_count": null,
      "metadata": {
        "colab": {
          "base_uri": "https://localhost:8080/"
        },
        "id": "ebd127b4-70e1-41d1-aed1-20576012a172",
        "outputId": "a10b5311-46e5-43cc-f928-e294beb17b77"
      },
      "outputs": [
        {
          "name": "stdout",
          "output_type": "stream",
          "text": [
            "CC    3618297\n",
            "CM    1840038\n",
            "Name: client_type, dtype: int64\n"
          ]
        }
      ],
      "source": [
        "va = validTrans.client_type.value_counts()\n",
        "print(va)"
      ],
      "id": "ebd127b4-70e1-41d1-aed1-20576012a172"
    },
    {
      "cell_type": "markdown",
      "metadata": {
        "id": "59bcd975-c18c-4ffa-ae9a-bbed8ba4f3ad"
      },
      "source": [
        "### Visualizing the fraud and valid transaction counts for each 'client_type'"
      ],
      "id": "59bcd975-c18c-4ffa-ae9a-bbed8ba4f3ad"
    },
    {
      "cell_type": "code",
      "execution_count": null,
      "metadata": {
        "colab": {
          "base_uri": "https://localhost:8080/",
          "height": 667
        },
        "id": "537ce1f4-7581-4d7a-9420-ba23cc56ee2f",
        "outputId": "637bffb3-2938-4032-b027-6bd553bace79"
      },
      "outputs": [
        {
          "data": {
            "text/plain": [
              "Text(0.5, 1.0, 'Valid Transactions')"
            ]
          },
          "execution_count": 101,
          "metadata": {},
          "output_type": "execute_result"
        },
        {
          "data": {
            "image/png": "[encoded data removed]",
            "text/plain": [
              "<Figure size 1500x800 with 2 Axes>"
            ]
          },
          "metadata": {},
          "output_type": "display_data"
        }
      ],
      "source": [
        "plt.figure(figsize=(15,8))\n",
        "\n",
        "plt.subplot(1,2,1)\n",
        "ax1 = sns.countplot(x = fr)\n",
        "plt.title('Fraud Transactions')\n",
        "\n",
        "plt.subplot(1,2,2)\n",
        "ax2 = sns.countplot(x = va)\n",
        "plt.title('Valid Transactions')"
      ],
      "id": "537ce1f4-7581-4d7a-9420-ba23cc56ee2f"
    },
    {
      "cell_type": "markdown",
      "metadata": {
        "id": "07fc4d77-18a7-404b-8734-8a0f2b681d51"
      },
      "source": [
        "### Visualization of transaction counts categorized by their 'type'"
      ],
      "id": "07fc4d77-18a7-404b-8734-8a0f2b681d51"
    },
    {
      "cell_type": "code",
      "execution_count": null,
      "metadata": {
        "colab": {
          "base_uri": "https://localhost:8080/",
          "height": 645
        },
        "id": "df3e1ae4-5b18-45a1-b2ad-17fe0abba8b8",
        "outputId": "e4d7176a-f588-4e02-c8be-cc9e26a3257c"
      },
      "outputs": [
        {
          "data": {
            "image/png": "[encoded data removed]",
            "text/plain": [
              "<Figure size 1500x800 with 1 Axes>"
            ]
          },
          "metadata": {},
          "output_type": "display_data"
        }
      ],
      "source": [
        "plt.figure(figsize=(15,8))\n",
        "g = sns.countplot(data=data, x='type', palette='dark',alpha=0.6)\n",
        "plt.title(\"Counts for each Transaction types\")\n",
        "\n",
        "#finding counts\n",
        "for p in g.patches:\n",
        "    g.annotate(p.get_height(), (p.get_x()+0.24, p.get_height()+10000))"
      ],
      "id": "df3e1ae4-5b18-45a1-b2ad-17fe0abba8b8"
    },
    {
      "cell_type": "markdown",
      "metadata": {
        "id": "a8f02373-fa71-42d1-9b3e-9acf65d386cb"
      },
      "source": [
        "### Visualization of transaction counts categorized by their 'client_type'"
      ],
      "id": "a8f02373-fa71-42d1-9b3e-9acf65d386cb"
    },
    {
      "cell_type": "code",
      "execution_count": null,
      "metadata": {
        "colab": {
          "base_uri": "https://localhost:8080/",
          "height": 650
        },
        "id": "f811020b-f78e-4a45-a6ea-ac5043003b4c",
        "outputId": "5d2a2ef4-5f60-4927-d1fa-807f518a9d7b"
      },
      "outputs": [
        {
          "data": {
            "image/png": "[encoded data removed]",
            "text/plain": [
              "<Figure size 1500x800 with 1 Axes>"
            ]
          },
          "metadata": {},
          "output_type": "display_data"
        }
      ],
      "source": [
        "plt.figure(figsize=(15,8))\n",
        "g = sns.countplot(data=data, x='client_type', palette='dark',alpha=0.6)\n",
        "plt.title(\"Checking for fraud occurances for each Transaction Client types\")\n",
        "\n",
        "#finding counts\n",
        "for p in g.patches:\n",
        "    g.annotate(p.get_height(), (p.get_x()+0.325, p.get_height()+10000))"
      ],
      "id": "f811020b-f78e-4a45-a6ea-ac5043003b4c"
    },
    {
      "cell_type": "markdown",
      "metadata": {
        "id": "6ac01c1e-e9f5-49d5-83be-95c70b4ba7e2"
      },
      "source": [
        "### Visualization of Fraud vs Valid transaction counts categorized by their 'client_type'"
      ],
      "id": "6ac01c1e-e9f5-49d5-83be-95c70b4ba7e2"
    },
    {
      "cell_type": "code",
      "execution_count": null,
      "metadata": {
        "colab": {
          "base_uri": "https://localhost:8080/",
          "height": 650
        },
        "id": "84aa19af-f02b-4c7b-aef2-a9d848a0ba62",
        "outputId": "930e03d5-17e4-461d-8bb6-c3452f12de65"
      },
      "outputs": [
        {
          "data": {
            "image/png": "[encoded data removed]",
            "text/plain": [
              "<Figure size 1500x800 with 1 Axes>"
            ]
          },
          "metadata": {},
          "output_type": "display_data"
        }
      ],
      "source": [
        "plt.figure(figsize=(15,8))\n",
        "g = sns.countplot(data=data, x='client_type', hue='isFraud', palette='dark',alpha=0.6)\n",
        "plt.title(\"Checking for fraud occurances for each Transaction Client types\")\n",
        "\n",
        "#finding counts\n",
        "for p in g.patches:\n",
        "    g.annotate(p.get_height(), (p.get_x()+0.13, p.get_height()+10000))"
      ],
      "id": "84aa19af-f02b-4c7b-aef2-a9d848a0ba62"
    },
    {
      "cell_type": "markdown",
      "metadata": {
        "id": "665b1b23-bf6c-4159-9307-c19f1eb176bc"
      },
      "source": [
        "## Data Preprocessing"
      ],
      "id": "665b1b23-bf6c-4159-9307-c19f1eb176bc"
    },
    {
      "cell_type": "markdown",
      "metadata": {
        "id": "7b7990c1-fd72-497b-8978-9b5f74b39852"
      },
      "source": [
        "### Importing necessary libraries"
      ],
      "id": "7b7990c1-fd72-497b-8978-9b5f74b39852"
    },
    {
      "cell_type": "code",
      "execution_count": null,
      "metadata": {
        "id": "d5256128-7f98-43a3-b380-640e3fd14ed2"
      },
      "outputs": [],
      "source": [
        "from sklearn.preprocessing import StandardScaler\n",
        "from sklearn.model_selection import train_test_split"
      ],
      "id": "d5256128-7f98-43a3-b380-640e3fd14ed2"
    },
    {
      "cell_type": "markdown",
      "metadata": {
        "id": "e98a4786-9595-42cd-b832-da28efd42124"
      },
      "source": [
        "### Obtaining one-hot encodings for 'type' column"
      ],
      "id": "e98a4786-9595-42cd-b832-da28efd42124"
    },
    {
      "cell_type": "code",
      "execution_count": null,
      "metadata": {
        "id": "59ee34fa-36e5-46d2-ac50-dd4ddf541881"
      },
      "outputs": [],
      "source": [
        "one_hot_type = pd.get_dummies(data['type'])"
      ],
      "id": "59ee34fa-36e5-46d2-ac50-dd4ddf541881"
    },
    {
      "cell_type": "code",
      "execution_count": null,
      "metadata": {
        "colab": {
          "base_uri": "https://localhost:8080/",
          "height": 423
        },
        "id": "0e5151c6-bb44-4639-a98b-2494638976a5",
        "outputId": "15f47deb-d293-4f65-d9a3-58c213392e72"
      },
      "outputs": [
        {
          "data": {
            "text/html": [
              "\n",
              "  <div id=\"df-91f0f15a-1b2b-467f-8c91-1c9b5e7eceb8\" class=\"colab-df-container\">\n",
              "    <div>\n",
              "<style scoped>\n",
              "    .dataframe tbody tr th:only-of-type {\n",
              "        vertical-align: middle;\n",
              "    }\n",
              "\n",
              "    .dataframe tbody tr th {\n",
              "        vertical-align: top;\n",
              "    }\n",
              "\n",
              "    .dataframe thead th {\n",
              "        text-align: right;\n",
              "    }\n",
              "</style>\n",
              "<table border=\"1\" class=\"dataframe\">\n",
              "  <thead>\n",
              "    <tr style=\"text-align: right;\">\n",
              "      <th></th>\n",
              "      <th>CASH_IN</th>\n",
              "      <th>CASH_OUT</th>\n",
              "      <th>DEBIT</th>\n",
              "      <th>PAYM</th>\n",
              "      <th>PAYMENT</th>\n",
              "      <th>TRANSFER</th>\n",
              "    </tr>\n",
              "  </thead>\n",
              "  <tbody>\n",
              "    <tr>\n",
              "      <th>0</th>\n",
              "      <td>0</td>\n",
              "      <td>0</td>\n",
              "      <td>0</td>\n",
              "      <td>0</td>\n",
              "      <td>1</td>\n",
              "      <td>0</td>\n",
              "    </tr>\n",
              "    <tr>\n",
              "      <th>1</th>\n",
              "      <td>0</td>\n",
              "      <td>0</td>\n",
              "      <td>0</td>\n",
              "      <td>0</td>\n",
              "      <td>1</td>\n",
              "      <td>0</td>\n",
              "    </tr>\n",
              "    <tr>\n",
              "      <th>2</th>\n",
              "      <td>0</td>\n",
              "      <td>0</td>\n",
              "      <td>0</td>\n",
              "      <td>0</td>\n",
              "      <td>0</td>\n",
              "      <td>1</td>\n",
              "    </tr>\n",
              "    <tr>\n",
              "      <th>3</th>\n",
              "      <td>0</td>\n",
              "      <td>1</td>\n",
              "      <td>0</td>\n",
              "      <td>0</td>\n",
              "      <td>0</td>\n",
              "      <td>0</td>\n",
              "    </tr>\n",
              "    <tr>\n",
              "      <th>4</th>\n",
              "      <td>0</td>\n",
              "      <td>0</td>\n",
              "      <td>0</td>\n",
              "      <td>0</td>\n",
              "      <td>1</td>\n",
              "      <td>0</td>\n",
              "    </tr>\n",
              "    <tr>\n",
              "      <th>...</th>\n",
              "      <td>...</td>\n",
              "      <td>...</td>\n",
              "      <td>...</td>\n",
              "      <td>...</td>\n",
              "      <td>...</td>\n",
              "      <td>...</td>\n",
              "    </tr>\n",
              "    <tr>\n",
              "      <th>5462548</th>\n",
              "      <td>0</td>\n",
              "      <td>1</td>\n",
              "      <td>0</td>\n",
              "      <td>0</td>\n",
              "      <td>0</td>\n",
              "      <td>0</td>\n",
              "    </tr>\n",
              "    <tr>\n",
              "      <th>5462549</th>\n",
              "      <td>0</td>\n",
              "      <td>0</td>\n",
              "      <td>0</td>\n",
              "      <td>0</td>\n",
              "      <td>1</td>\n",
              "      <td>0</td>\n",
              "    </tr>\n",
              "    <tr>\n",
              "      <th>5462550</th>\n",
              "      <td>0</td>\n",
              "      <td>0</td>\n",
              "      <td>0</td>\n",
              "      <td>0</td>\n",
              "      <td>1</td>\n",
              "      <td>0</td>\n",
              "    </tr>\n",
              "    <tr>\n",
              "      <th>5462551</th>\n",
              "      <td>0</td>\n",
              "      <td>1</td>\n",
              "      <td>0</td>\n",
              "      <td>0</td>\n",
              "      <td>0</td>\n",
              "      <td>0</td>\n",
              "    </tr>\n",
              "    <tr>\n",
              "      <th>5462552</th>\n",
              "      <td>0</td>\n",
              "      <td>0</td>\n",
              "      <td>0</td>\n",
              "      <td>1</td>\n",
              "      <td>0</td>\n",
              "      <td>0</td>\n",
              "    </tr>\n",
              "  </tbody>\n",
              "</table>\n",
              "<p>5462553 rows × 6 columns</p>\n",
              "</div>\n",
              "    <div class=\"colab-df-buttons\">\n",
              "\n",
              "  <div class=\"colab-df-container\">\n",
              "    <button class=\"colab-df-convert\" onclick=\"convertToInteractive('df-91f0f15a-1b2b-467f-8c91-1c9b5e7eceb8')\"\n",
              "            title=\"Convert this dataframe to an interactive table.\"\n",
              "            style=\"display:none;\">\n",
              "\n",
              "  <svg xmlns=\"http://www.w3.org/2000/svg\" height=\"24px\" viewBox=\"0 -960 960 960\">\n",
              "    <path d=\"M120-120v-720h720v720H120Zm60-500h600v-160H180v160Zm220 220h160v-160H400v160Zm0 220h160v-160H400v160ZM180-400h160v-160H180v160Zm440 0h160v-160H620v160ZM180-180h160v-160H180v160Zm440 0h160v-160H620v160Z\"/>\n",
              "  </svg>\n",
              "    </button>\n",
              "\n",
              "  <style>\n",
              "    .colab-df-container {\n",
              "      display:flex;\n",
              "      gap: 12px;\n",
              "    }\n",
              "\n",
              "    .colab-df-convert {\n",
              "      background-color: #E8F0FE;\n",
              "      border: none;\n",
              "      border-radius: 50%;\n",
              "      cursor: pointer;\n",
              "      display: none;\n",
              "      fill: #1967D2;\n",
              "      height: 32px;\n",
              "      padding: 0 0 0 0;\n",
              "      width: 32px;\n",
              "    }\n",
              "\n",
              "    .colab-df-convert:hover {\n",
              "      background-color: #E2EBFA;\n",
              "      box-shadow: 0px 1px 2px rgba(60, 64, 67, 0.3), 0px 1px 3px 1px rgba(60, 64, 67, 0.15);\n",
              "      fill: #174EA6;\n",
              "    }\n",
              "\n",
              "    .colab-df-buttons div {\n",
              "      margin-bottom: 4px;\n",
              "    }\n",
              "\n",
              "    [theme=dark] .colab-df-convert {\n",
              "      background-color: #3B4455;\n",
              "      fill: #D2E3FC;\n",
              "    }\n",
              "\n",
              "    [theme=dark] .colab-df-convert:hover {\n",
              "      background-color: #434B5C;\n",
              "      box-shadow: 0px 1px 3px 1px rgba(0, 0, 0, 0.15);\n",
              "      filter: drop-shadow(0px 1px 2px rgba(0, 0, 0, 0.3));\n",
              "      fill: #FFFFFF;\n",
              "    }\n",
              "  </style>\n",
              "\n",
              "    <script>\n",
              "      const buttonEl =\n",
              "        document.querySelector('#df-91f0f15a-1b2b-467f-8c91-1c9b5e7eceb8 button.colab-df-convert');\n",
              "      buttonEl.style.display =\n",
              "        google.colab.kernel.accessAllowed ? 'block' : 'none';\n",
              "\n",
              "      async function convertToInteractive(key) {\n",
              "        const element = document.querySelector('#df-91f0f15a-1b2b-467f-8c91-1c9b5e7eceb8');\n",
              "        const dataTable =\n",
              "          await google.colab.kernel.invokeFunction('convertToInteractive',\n",
              "                                                    [key], {});\n",
              "        if (!dataTable) return;\n",
              "\n",
              "        const docLinkHtml = 'Like what you see? Visit the ' +\n",
              "          '<a target=\"_blank\" href=https://colab.research.google.com/notebooks/data_table.ipynb>data table notebook</a>'\n",
              "          + ' to learn more about interactive tables.';\n",
              "        element.innerHTML = '';\n",
              "        dataTable['output_type'] = 'display_data';\n",
              "        await google.colab.output.renderOutput(dataTable, element);\n",
              "        const docLink = document.createElement('div');\n",
              "        docLink.innerHTML = docLinkHtml;\n",
              "        element.appendChild(docLink);\n",
              "      }\n",
              "    </script>\n",
              "  </div>\n",
              "\n",
              "\n",
              "<div id=\"df-5698b091-410c-45e7-b98c-7c15e9b74562\">\n",
              "  <button class=\"colab-df-quickchart\" onclick=\"quickchart('df-5698b091-410c-45e7-b98c-7c15e9b74562')\"\n",
              "            title=\"Suggest charts.\"\n",
              "            style=\"display:none;\">\n",
              "\n",
              "<svg xmlns=\"http://www.w3.org/2000/svg\" height=\"24px\"viewBox=\"0 0 24 24\"\n",
              "     width=\"24px\">\n",
              "    <g>\n",
              "        <path d=\"M19 3H5c-1.1 0-2 .9-2 2v14c0 1.1.9 2 2 2h14c1.1 0 2-.9 2-2V5c0-1.1-.9-2-2-2zM9 17H7v-7h2v7zm4 0h-2V7h2v10zm4 0h-2v-4h2v4z\"/>\n",
              "    </g>\n",
              "</svg>\n",
              "  </button>\n",
              "\n",
              "<style>\n",
              "  .colab-df-quickchart {\n",
              "      --bg-color: #E8F0FE;\n",
              "      --fill-color: #1967D2;\n",
              "      --hover-bg-color: #E2EBFA;\n",
              "      --hover-fill-color: #174EA6;\n",
              "      --disabled-fill-color: #AAA;\n",
              "      --disabled-bg-color: #DDD;\n",
              "  }\n",
              "\n",
              "  [theme=dark] .colab-df-quickchart {\n",
              "      --bg-color: #3B4455;\n",
              "      --fill-color: #D2E3FC;\n",
              "      --hover-bg-color: #434B5C;\n",
              "      --hover-fill-color: #FFFFFF;\n",
              "      --disabled-bg-color: #3B4455;\n",
              "      --disabled-fill-color: #666;\n",
              "  }\n",
              "\n",
              "  .colab-df-quickchart {\n",
              "    background-color: var(--bg-color);\n",
              "    border: none;\n",
              "    border-radius: 50%;\n",
              "    cursor: pointer;\n",
              "    display: none;\n",
              "    fill: var(--fill-color);\n",
              "    height: 32px;\n",
              "    padding: 0;\n",
              "    width: 32px;\n",
              "  }\n",
              "\n",
              "  .colab-df-quickchart:hover {\n",
              "    background-color: var(--hover-bg-color);\n",
              "    box-shadow: 0 1px 2px rgba(60, 64, 67, 0.3), 0 1px 3px 1px rgba(60, 64, 67, 0.15);\n",
              "    fill: var(--button-hover-fill-color);\n",
              "  }\n",
              "\n",
              "  .colab-df-quickchart-complete:disabled,\n",
              "  .colab-df-quickchart-complete:disabled:hover {\n",
              "    background-color: var(--disabled-bg-color);\n",
              "    fill: var(--disabled-fill-color);\n",
              "    box-shadow: none;\n",
              "  }\n",
              "\n",
              "  .colab-df-spinner {\n",
              "    border: 2px solid var(--fill-color);\n",
              "    border-color: transparent;\n",
              "    border-bottom-color: var(--fill-color);\n",
              "    animation:\n",
              "      spin 1s steps(1) infinite;\n",
              "  }\n",
              "\n",
              "  @keyframes spin {\n",
              "    0% {\n",
              "      border-color: transparent;\n",
              "      border-bottom-color: var(--fill-color);\n",
              "      border-left-color: var(--fill-color);\n",
              "    }\n",
              "    20% {\n",
              "      border-color: transparent;\n",
              "      border-left-color: var(--fill-color);\n",
              "      border-top-color: var(--fill-color);\n",
              "    }\n",
              "    30% {\n",
              "      border-color: transparent;\n",
              "      border-left-color: var(--fill-color);\n",
              "      border-top-color: var(--fill-color);\n",
              "      border-right-color: var(--fill-color);\n",
              "    }\n",
              "    40% {\n",
              "      border-color: transparent;\n",
              "      border-right-color: var(--fill-color);\n",
              "      border-top-color: var(--fill-color);\n",
              "    }\n",
              "    60% {\n",
              "      border-color: transparent;\n",
              "      border-right-color: var(--fill-color);\n",
              "    }\n",
              "    80% {\n",
              "      border-color: transparent;\n",
              "      border-right-color: var(--fill-color);\n",
              "      border-bottom-color: var(--fill-color);\n",
              "    }\n",
              "    90% {\n",
              "      border-color: transparent;\n",
              "      border-bottom-color: var(--fill-color);\n",
              "    }\n",
              "  }\n",
              "</style>\n",
              "\n",
              "  <script>\n",
              "    async function quickchart(key) {\n",
              "      const quickchartButtonEl =\n",
              "        document.querySelector('#' + key + ' button');\n",
              "      quickchartButtonEl.disabled = true;  // To prevent multiple clicks.\n",
              "      quickchartButtonEl.classList.add('colab-df-spinner');\n",
              "      try {\n",
              "        const charts = await google.colab.kernel.invokeFunction(\n",
              "            'suggestCharts', [key], {});\n",
              "      } catch (error) {\n",
              "        console.error('Error during call to suggestCharts:', error);\n",
              "      }\n",
              "      quickchartButtonEl.classList.remove('colab-df-spinner');\n",
              "      quickchartButtonEl.classList.add('colab-df-quickchart-complete');\n",
              "    }\n",
              "    (() => {\n",
              "      let quickchartButtonEl =\n",
              "        document.querySelector('#df-5698b091-410c-45e7-b98c-7c15e9b74562 button');\n",
              "      quickchartButtonEl.style.display =\n",
              "        google.colab.kernel.accessAllowed ? 'block' : 'none';\n",
              "    })();\n",
              "  </script>\n",
              "</div>\n",
              "    </div>\n",
              "  </div>\n"
            ],
            "text/plain": [
              "         CASH_IN  CASH_OUT  DEBIT  PAYM  PAYMENT  TRANSFER\n",
              "0              0         0      0     0        1         0\n",
              "1              0         0      0     0        1         0\n",
              "2              0         0      0     0        0         1\n",
              "3              0         1      0     0        0         0\n",
              "4              0         0      0     0        1         0\n",
              "...          ...       ...    ...   ...      ...       ...\n",
              "5462548        0         1      0     0        0         0\n",
              "5462549        0         0      0     0        1         0\n",
              "5462550        0         0      0     0        1         0\n",
              "5462551        0         1      0     0        0         0\n",
              "5462552        0         0      0     1        0         0\n",
              "\n",
              "[5462553 rows x 6 columns]"
            ]
          },
          "execution_count": 107,
          "metadata": {},
          "output_type": "execute_result"
        }
      ],
      "source": [
        "one_hot_type"
      ],
      "id": "0e5151c6-bb44-4639-a98b-2494638976a5"
    },
    {
      "cell_type": "markdown",
      "metadata": {
        "id": "e83451f0-a454-4e4d-a3cd-e6882ac60655"
      },
      "source": [
        "### Adding one-hot encoding for 'type' and removing 'type' column from data"
      ],
      "id": "e83451f0-a454-4e4d-a3cd-e6882ac60655"
    },
    {
      "cell_type": "code",
      "execution_count": null,
      "metadata": {
        "id": "593609ac-0a35-4a82-b4e3-60c4e4ae9388"
      },
      "outputs": [],
      "source": [
        "data = data.drop('type', axis=1)"
      ],
      "id": "593609ac-0a35-4a82-b4e3-60c4e4ae9388"
    },
    {
      "cell_type": "code",
      "execution_count": null,
      "metadata": {
        "id": "e15c65e0-13a4-4987-8948-f601bed521de"
      },
      "outputs": [],
      "source": [
        "data = data.join(one_hot_type)"
      ],
      "id": "e15c65e0-13a4-4987-8948-f601bed521de"
    },
    {
      "cell_type": "code",
      "execution_count": null,
      "metadata": {
        "colab": {
          "base_uri": "https://localhost:8080/",
          "height": 226
        },
        "id": "9c313db7-9403-41ed-95cf-d7e95fb87821",
        "outputId": "cabe3fce-e526-44a9-9104-769c56e1f395"
      },
      "outputs": [
        {
          "data": {
            "text/html": [
              "\n",
              "  <div id=\"df-15947f05-8793-4a7c-b983-1d10635538fb\" class=\"colab-df-container\">\n",
              "    <div>\n",
              "<style scoped>\n",
              "    .dataframe tbody tr th:only-of-type {\n",
              "        vertical-align: middle;\n",
              "    }\n",
              "\n",
              "    .dataframe tbody tr th {\n",
              "        vertical-align: top;\n",
              "    }\n",
              "\n",
              "    .dataframe thead th {\n",
              "        text-align: right;\n",
              "    }\n",
              "</style>\n",
              "<table border=\"1\" class=\"dataframe\">\n",
              "  <thead>\n",
              "    <tr style=\"text-align: right;\">\n",
              "      <th></th>\n",
              "      <th>amount</th>\n",
              "      <th>sender_old_bal</th>\n",
              "      <th>sender_new_bal</th>\n",
              "      <th>dest_old_bal</th>\n",
              "      <th>dest_new_bal</th>\n",
              "      <th>isFraud</th>\n",
              "      <th>client_type</th>\n",
              "      <th>CASH_IN</th>\n",
              "      <th>CASH_OUT</th>\n",
              "      <th>DEBIT</th>\n",
              "      <th>PAYM</th>\n",
              "      <th>PAYMENT</th>\n",
              "      <th>TRANSFER</th>\n",
              "    </tr>\n",
              "  </thead>\n",
              "  <tbody>\n",
              "    <tr>\n",
              "      <th>0</th>\n",
              "      <td>9839.64</td>\n",
              "      <td>170136.0</td>\n",
              "      <td>160296.36</td>\n",
              "      <td>0.0</td>\n",
              "      <td>0.0</td>\n",
              "      <td>0.0</td>\n",
              "      <td>CM</td>\n",
              "      <td>0</td>\n",
              "      <td>0</td>\n",
              "      <td>0</td>\n",
              "      <td>0</td>\n",
              "      <td>1</td>\n",
              "      <td>0</td>\n",
              "    </tr>\n",
              "    <tr>\n",
              "      <th>1</th>\n",
              "      <td>1864.28</td>\n",
              "      <td>21249.0</td>\n",
              "      <td>19384.72</td>\n",
              "      <td>0.0</td>\n",
              "      <td>0.0</td>\n",
              "      <td>0.0</td>\n",
              "      <td>CM</td>\n",
              "      <td>0</td>\n",
              "      <td>0</td>\n",
              "      <td>0</td>\n",
              "      <td>0</td>\n",
              "      <td>1</td>\n",
              "      <td>0</td>\n",
              "    </tr>\n",
              "    <tr>\n",
              "      <th>2</th>\n",
              "      <td>181.00</td>\n",
              "      <td>181.0</td>\n",
              "      <td>0.00</td>\n",
              "      <td>0.0</td>\n",
              "      <td>0.0</td>\n",
              "      <td>1.0</td>\n",
              "      <td>CC</td>\n",
              "      <td>0</td>\n",
              "      <td>0</td>\n",
              "      <td>0</td>\n",
              "      <td>0</td>\n",
              "      <td>0</td>\n",
              "      <td>1</td>\n",
              "    </tr>\n",
              "    <tr>\n",
              "      <th>3</th>\n",
              "      <td>181.00</td>\n",
              "      <td>181.0</td>\n",
              "      <td>0.00</td>\n",
              "      <td>21182.0</td>\n",
              "      <td>0.0</td>\n",
              "      <td>1.0</td>\n",
              "      <td>CC</td>\n",
              "      <td>0</td>\n",
              "      <td>1</td>\n",
              "      <td>0</td>\n",
              "      <td>0</td>\n",
              "      <td>0</td>\n",
              "      <td>0</td>\n",
              "    </tr>\n",
              "    <tr>\n",
              "      <th>4</th>\n",
              "      <td>11668.14</td>\n",
              "      <td>41554.0</td>\n",
              "      <td>29885.86</td>\n",
              "      <td>0.0</td>\n",
              "      <td>0.0</td>\n",
              "      <td>0.0</td>\n",
              "      <td>CM</td>\n",
              "      <td>0</td>\n",
              "      <td>0</td>\n",
              "      <td>0</td>\n",
              "      <td>0</td>\n",
              "      <td>1</td>\n",
              "      <td>0</td>\n",
              "    </tr>\n",
              "  </tbody>\n",
              "</table>\n",
              "</div>\n",
              "    <div class=\"colab-df-buttons\">\n",
              "\n",
              "  <div class=\"colab-df-container\">\n",
              "    <button class=\"colab-df-convert\" onclick=\"convertToInteractive('df-15947f05-8793-4a7c-b983-1d10635538fb')\"\n",
              "            title=\"Convert this dataframe to an interactive table.\"\n",
              "            style=\"display:none;\">\n",
              "\n",
              "  <svg xmlns=\"http://www.w3.org/2000/svg\" height=\"24px\" viewBox=\"0 -960 960 960\">\n",
              "    <path d=\"M120-120v-720h720v720H120Zm60-500h600v-160H180v160Zm220 220h160v-160H400v160Zm0 220h160v-160H400v160ZM180-400h160v-160H180v160Zm440 0h160v-160H620v160ZM180-180h160v-160H180v160Zm440 0h160v-160H620v160Z\"/>\n",
              "  </svg>\n",
              "    </button>\n",
              "\n",
              "  <style>\n",
              "    .colab-df-container {\n",
              "      display:flex;\n",
              "      gap: 12px;\n",
              "    }\n",
              "\n",
              "    .colab-df-convert {\n",
              "      background-color: #E8F0FE;\n",
              "      border: none;\n",
              "      border-radius: 50%;\n",
              "      cursor: pointer;\n",
              "      display: none;\n",
              "      fill: #1967D2;\n",
              "      height: 32px;\n",
              "      padding: 0 0 0 0;\n",
              "      width: 32px;\n",
              "    }\n",
              "\n",
              "    .colab-df-convert:hover {\n",
              "      background-color: #E2EBFA;\n",
              "      box-shadow: 0px 1px 2px rgba(60, 64, 67, 0.3), 0px 1px 3px 1px rgba(60, 64, 67, 0.15);\n",
              "      fill: #174EA6;\n",
              "    }\n",
              "\n",
              "    .colab-df-buttons div {\n",
              "      margin-bottom: 4px;\n",
              "    }\n",
              "\n",
              "    [theme=dark] .colab-df-convert {\n",
              "      background-color: #3B4455;\n",
              "      fill: #D2E3FC;\n",
              "    }\n",
              "\n",
              "    [theme=dark] .colab-df-convert:hover {\n",
              "      background-color: #434B5C;\n",
              "      box-shadow: 0px 1px 3px 1px rgba(0, 0, 0, 0.15);\n",
              "      filter: drop-shadow(0px 1px 2px rgba(0, 0, 0, 0.3));\n",
              "      fill: #FFFFFF;\n",
              "    }\n",
              "  </style>\n",
              "\n",
              "    <script>\n",
              "      const buttonEl =\n",
              "        document.querySelector('#df-15947f05-8793-4a7c-b983-1d10635538fb button.colab-df-convert');\n",
              "      buttonEl.style.display =\n",
              "        google.colab.kernel.accessAllowed ? 'block' : 'none';\n",
              "\n",
              "      async function convertToInteractive(key) {\n",
              "        const element = document.querySelector('#df-15947f05-8793-4a7c-b983-1d10635538fb');\n",
              "        const dataTable =\n",
              "          await google.colab.kernel.invokeFunction('convertToInteractive',\n",
              "                                                    [key], {});\n",
              "        if (!dataTable) return;\n",
              "\n",
              "        const docLinkHtml = 'Like what you see? Visit the ' +\n",
              "          '<a target=\"_blank\" href=https://colab.research.google.com/notebooks/data_table.ipynb>data table notebook</a>'\n",
              "          + ' to learn more about interactive tables.';\n",
              "        element.innerHTML = '';\n",
              "        dataTable['output_type'] = 'display_data';\n",
              "        await google.colab.output.renderOutput(dataTable, element);\n",
              "        const docLink = document.createElement('div');\n",
              "        docLink.innerHTML = docLinkHtml;\n",
              "        element.appendChild(docLink);\n",
              "      }\n",
              "    </script>\n",
              "  </div>\n",
              "\n",
              "\n",
              "<div id=\"df-bb700676-f2a7-47e2-a49f-e408d9b5940d\">\n",
              "  <button class=\"colab-df-quickchart\" onclick=\"quickchart('df-bb700676-f2a7-47e2-a49f-e408d9b5940d')\"\n",
              "            title=\"Suggest charts.\"\n",
              "            style=\"display:none;\">\n",
              "\n",
              "<svg xmlns=\"http://www.w3.org/2000/svg\" height=\"24px\"viewBox=\"0 0 24 24\"\n",
              "     width=\"24px\">\n",
              "    <g>\n",
              "        <path d=\"M19 3H5c-1.1 0-2 .9-2 2v14c0 1.1.9 2 2 2h14c1.1 0 2-.9 2-2V5c0-1.1-.9-2-2-2zM9 17H7v-7h2v7zm4 0h-2V7h2v10zm4 0h-2v-4h2v4z\"/>\n",
              "    </g>\n",
              "</svg>\n",
              "  </button>\n",
              "\n",
              "<style>\n",
              "  .colab-df-quickchart {\n",
              "      --bg-color: #E8F0FE;\n",
              "      --fill-color: #1967D2;\n",
              "      --hover-bg-color: #E2EBFA;\n",
              "      --hover-fill-color: #174EA6;\n",
              "      --disabled-fill-color: #AAA;\n",
              "      --disabled-bg-color: #DDD;\n",
              "  }\n",
              "\n",
              "  [theme=dark] .colab-df-quickchart {\n",
              "      --bg-color: #3B4455;\n",
              "      --fill-color: #D2E3FC;\n",
              "      --hover-bg-color: #434B5C;\n",
              "      --hover-fill-color: #FFFFFF;\n",
              "      --disabled-bg-color: #3B4455;\n",
              "      --disabled-fill-color: #666;\n",
              "  }\n",
              "\n",
              "  .colab-df-quickchart {\n",
              "    background-color: var(--bg-color);\n",
              "    border: none;\n",
              "    border-radius: 50%;\n",
              "    cursor: pointer;\n",
              "    display: none;\n",
              "    fill: var(--fill-color);\n",
              "    height: 32px;\n",
              "    padding: 0;\n",
              "    width: 32px;\n",
              "  }\n",
              "\n",
              "  .colab-df-quickchart:hover {\n",
              "    background-color: var(--hover-bg-color);\n",
              "    box-shadow: 0 1px 2px rgba(60, 64, 67, 0.3), 0 1px 3px 1px rgba(60, 64, 67, 0.15);\n",
              "    fill: var(--button-hover-fill-color);\n",
              "  }\n",
              "\n",
              "  .colab-df-quickchart-complete:disabled,\n",
              "  .colab-df-quickchart-complete:disabled:hover {\n",
              "    background-color: var(--disabled-bg-color);\n",
              "    fill: var(--disabled-fill-color);\n",
              "    box-shadow: none;\n",
              "  }\n",
              "\n",
              "  .colab-df-spinner {\n",
              "    border: 2px solid var(--fill-color);\n",
              "    border-color: transparent;\n",
              "    border-bottom-color: var(--fill-color);\n",
              "    animation:\n",
              "      spin 1s steps(1) infinite;\n",
              "  }\n",
              "\n",
              "  @keyframes spin {\n",
              "    0% {\n",
              "      border-color: transparent;\n",
              "      border-bottom-color: var(--fill-color);\n",
              "      border-left-color: var(--fill-color);\n",
              "    }\n",
              "    20% {\n",
              "      border-color: transparent;\n",
              "      border-left-color: var(--fill-color);\n",
              "      border-top-color: var(--fill-color);\n",
              "    }\n",
              "    30% {\n",
              "      border-color: transparent;\n",
              "      border-left-color: var(--fill-color);\n",
              "      border-top-color: var(--fill-color);\n",
              "      border-right-color: var(--fill-color);\n",
              "    }\n",
              "    40% {\n",
              "      border-color: transparent;\n",
              "      border-right-color: var(--fill-color);\n",
              "      border-top-color: var(--fill-color);\n",
              "    }\n",
              "    60% {\n",
              "      border-color: transparent;\n",
              "      border-right-color: var(--fill-color);\n",
              "    }\n",
              "    80% {\n",
              "      border-color: transparent;\n",
              "      border-right-color: var(--fill-color);\n",
              "      border-bottom-color: var(--fill-color);\n",
              "    }\n",
              "    90% {\n",
              "      border-color: transparent;\n",
              "      border-bottom-color: var(--fill-color);\n",
              "    }\n",
              "  }\n",
              "</style>\n",
              "\n",
              "  <script>\n",
              "    async function quickchart(key) {\n",
              "      const quickchartButtonEl =\n",
              "        document.querySelector('#' + key + ' button');\n",
              "      quickchartButtonEl.disabled = true;  // To prevent multiple clicks.\n",
              "      quickchartButtonEl.classList.add('colab-df-spinner');\n",
              "      try {\n",
              "        const charts = await google.colab.kernel.invokeFunction(\n",
              "            'suggestCharts', [key], {});\n",
              "      } catch (error) {\n",
              "        console.error('Error during call to suggestCharts:', error);\n",
              "      }\n",
              "      quickchartButtonEl.classList.remove('colab-df-spinner');\n",
              "      quickchartButtonEl.classList.add('colab-df-quickchart-complete');\n",
              "    }\n",
              "    (() => {\n",
              "      let quickchartButtonEl =\n",
              "        document.querySelector('#df-bb700676-f2a7-47e2-a49f-e408d9b5940d button');\n",
              "      quickchartButtonEl.style.display =\n",
              "        google.colab.kernel.accessAllowed ? 'block' : 'none';\n",
              "    })();\n",
              "  </script>\n",
              "</div>\n",
              "    </div>\n",
              "  </div>\n"
            ],
            "text/plain": [
              "     amount  sender_old_bal  sender_new_bal  dest_old_bal  dest_new_bal  \\\n",
              "0   9839.64        170136.0       160296.36           0.0           0.0   \n",
              "1   1864.28         21249.0        19384.72           0.0           0.0   \n",
              "2    181.00           181.0            0.00           0.0           0.0   \n",
              "3    181.00           181.0            0.00       21182.0           0.0   \n",
              "4  11668.14         41554.0        29885.86           0.0           0.0   \n",
              "\n",
              "   isFraud client_type  CASH_IN  CASH_OUT  DEBIT  PAYM  PAYMENT  TRANSFER  \n",
              "0      0.0          CM        0         0      0     0        1         0  \n",
              "1      0.0          CM        0         0      0     0        1         0  \n",
              "2      1.0          CC        0         0      0     0        0         1  \n",
              "3      1.0          CC        0         1      0     0        0         0  \n",
              "4      0.0          CM        0         0      0     0        1         0  "
            ]
          },
          "execution_count": 110,
          "metadata": {},
          "output_type": "execute_result"
        }
      ],
      "source": [
        "data.head()"
      ],
      "id": "9c313db7-9403-41ed-95cf-d7e95fb87821"
    },
    {
      "cell_type": "markdown",
      "metadata": {
        "id": "94902e40-dde0-4e0e-9937-9c80441037b1"
      },
      "source": [
        "### Obtaining one-hot encodings for 'client_type'one_hot_type = pd.get_dummies(data['type']) column"
      ],
      "id": "94902e40-dde0-4e0e-9937-9c80441037b1"
    },
    {
      "cell_type": "code",
      "execution_count": null,
      "metadata": {
        "id": "7407cffb-1762-4e8b-bb33-afd9a52350c1"
      },
      "outputs": [],
      "source": [
        "one_hot_client_type = pd.get_dummies(data['client_type'])"
      ],
      "id": "7407cffb-1762-4e8b-bb33-afd9a52350c1"
    },
    {
      "cell_type": "code",
      "execution_count": null,
      "metadata": {
        "colab": {
          "base_uri": "https://localhost:8080/",
          "height": 423
        },
        "id": "ccaf02aa-9f66-42fc-a90a-3a244e4bca83",
        "outputId": "6ceb06d1-3783-4137-e188-dcf941bf694f"
      },
      "outputs": [
        {
          "data": {
            "text/html": [
              "\n",
              "  <div id=\"df-c0dd0995-9a3d-498a-8ac1-bcb780b41ddb\" class=\"colab-df-container\">\n",
              "    <div>\n",
              "<style scoped>\n",
              "    .dataframe tbody tr th:only-of-type {\n",
              "        vertical-align: middle;\n",
              "    }\n",
              "\n",
              "    .dataframe tbody tr th {\n",
              "        vertical-align: top;\n",
              "    }\n",
              "\n",
              "    .dataframe thead th {\n",
              "        text-align: right;\n",
              "    }\n",
              "</style>\n",
              "<table border=\"1\" class=\"dataframe\">\n",
              "  <thead>\n",
              "    <tr style=\"text-align: right;\">\n",
              "      <th></th>\n",
              "      <th>CC</th>\n",
              "      <th>CM</th>\n",
              "    </tr>\n",
              "  </thead>\n",
              "  <tbody>\n",
              "    <tr>\n",
              "      <th>0</th>\n",
              "      <td>0</td>\n",
              "      <td>1</td>\n",
              "    </tr>\n",
              "    <tr>\n",
              "      <th>1</th>\n",
              "      <td>0</td>\n",
              "      <td>1</td>\n",
              "    </tr>\n",
              "    <tr>\n",
              "      <th>2</th>\n",
              "      <td>1</td>\n",
              "      <td>0</td>\n",
              "    </tr>\n",
              "    <tr>\n",
              "      <th>3</th>\n",
              "      <td>1</td>\n",
              "      <td>0</td>\n",
              "    </tr>\n",
              "    <tr>\n",
              "      <th>4</th>\n",
              "      <td>0</td>\n",
              "      <td>1</td>\n",
              "    </tr>\n",
              "    <tr>\n",
              "      <th>...</th>\n",
              "      <td>...</td>\n",
              "      <td>...</td>\n",
              "    </tr>\n",
              "    <tr>\n",
              "      <th>5462548</th>\n",
              "      <td>1</td>\n",
              "      <td>0</td>\n",
              "    </tr>\n",
              "    <tr>\n",
              "      <th>5462549</th>\n",
              "      <td>0</td>\n",
              "      <td>1</td>\n",
              "    </tr>\n",
              "    <tr>\n",
              "      <th>5462550</th>\n",
              "      <td>0</td>\n",
              "      <td>1</td>\n",
              "    </tr>\n",
              "    <tr>\n",
              "      <th>5462551</th>\n",
              "      <td>1</td>\n",
              "      <td>0</td>\n",
              "    </tr>\n",
              "    <tr>\n",
              "      <th>5462552</th>\n",
              "      <td>0</td>\n",
              "      <td>0</td>\n",
              "    </tr>\n",
              "  </tbody>\n",
              "</table>\n",
              "<p>5462553 rows × 2 columns</p>\n",
              "</div>\n",
              "    <div class=\"colab-df-buttons\">\n",
              "\n",
              "  <div class=\"colab-df-container\">\n",
              "    <button class=\"colab-df-convert\" onclick=\"convertToInteractive('df-c0dd0995-9a3d-498a-8ac1-bcb780b41ddb')\"\n",
              "            title=\"Convert this dataframe to an interactive table.\"\n",
              "            style=\"display:none;\">\n",
              "\n",
              "  <svg xmlns=\"http://www.w3.org/2000/svg\" height=\"24px\" viewBox=\"0 -960 960 960\">\n",
              "    <path d=\"M120-120v-720h720v720H120Zm60-500h600v-160H180v160Zm220 220h160v-160H400v160Zm0 220h160v-160H400v160ZM180-400h160v-160H180v160Zm440 0h160v-160H620v160ZM180-180h160v-160H180v160Zm440 0h160v-160H620v160Z\"/>\n",
              "  </svg>\n",
              "    </button>\n",
              "\n",
              "  <style>\n",
              "    .colab-df-container {\n",
              "      display:flex;\n",
              "      gap: 12px;\n",
              "    }\n",
              "\n",
              "    .colab-df-convert {\n",
              "      background-color: #E8F0FE;\n",
              "      border: none;\n",
              "      border-radius: 50%;\n",
              "      cursor: pointer;\n",
              "      display: none;\n",
              "      fill: #1967D2;\n",
              "      height: 32px;\n",
              "      padding: 0 0 0 0;\n",
              "      width: 32px;\n",
              "    }\n",
              "\n",
              "    .colab-df-convert:hover {\n",
              "      background-color: #E2EBFA;\n",
              "      box-shadow: 0px 1px 2px rgba(60, 64, 67, 0.3), 0px 1px 3px 1px rgba(60, 64, 67, 0.15);\n",
              "      fill: #174EA6;\n",
              "    }\n",
              "\n",
              "    .colab-df-buttons div {\n",
              "      margin-bottom: 4px;\n",
              "    }\n",
              "\n",
              "    [theme=dark] .colab-df-convert {\n",
              "      background-color: #3B4455;\n",
              "      fill: #D2E3FC;\n",
              "    }\n",
              "\n",
              "    [theme=dark] .colab-df-convert:hover {\n",
              "      background-color: #434B5C;\n",
              "      box-shadow: 0px 1px 3px 1px rgba(0, 0, 0, 0.15);\n",
              "      filter: drop-shadow(0px 1px 2px rgba(0, 0, 0, 0.3));\n",
              "      fill: #FFFFFF;\n",
              "    }\n",
              "  </style>\n",
              "\n",
              "    <script>\n",
              "      const buttonEl =\n",
              "        document.querySelector('#df-c0dd0995-9a3d-498a-8ac1-bcb780b41ddb button.colab-df-convert');\n",
              "      buttonEl.style.display =\n",
              "        google.colab.kernel.accessAllowed ? 'block' : 'none';\n",
              "\n",
              "      async function convertToInteractive(key) {\n",
              "        const element = document.querySelector('#df-c0dd0995-9a3d-498a-8ac1-bcb780b41ddb');\n",
              "        const dataTable =\n",
              "          await google.colab.kernel.invokeFunction('convertToInteractive',\n",
              "                                                    [key], {});\n",
              "        if (!dataTable) return;\n",
              "\n",
              "        const docLinkHtml = 'Like what you see? Visit the ' +\n",
              "          '<a target=\"_blank\" href=https://colab.research.google.com/notebooks/data_table.ipynb>data table notebook</a>'\n",
              "          + ' to learn more about interactive tables.';\n",
              "        element.innerHTML = '';\n",
              "        dataTable['output_type'] = 'display_data';\n",
              "        await google.colab.output.renderOutput(dataTable, element);\n",
              "        const docLink = document.createElement('div');\n",
              "        docLink.innerHTML = docLinkHtml;\n",
              "        element.appendChild(docLink);\n",
              "      }\n",
              "    </script>\n",
              "  </div>\n",
              "\n",
              "\n",
              "<div id=\"df-adee45b0-0d67-4614-bc58-5eb3dd21f761\">\n",
              "  <button class=\"colab-df-quickchart\" onclick=\"quickchart('df-adee45b0-0d67-4614-bc58-5eb3dd21f761')\"\n",
              "            title=\"Suggest charts.\"\n",
              "            style=\"display:none;\">\n",
              "\n",
              "<svg xmlns=\"http://www.w3.org/2000/svg\" height=\"24px\"viewBox=\"0 0 24 24\"\n",
              "     width=\"24px\">\n",
              "    <g>\n",
              "        <path d=\"M19 3H5c-1.1 0-2 .9-2 2v14c0 1.1.9 2 2 2h14c1.1 0 2-.9 2-2V5c0-1.1-.9-2-2-2zM9 17H7v-7h2v7zm4 0h-2V7h2v10zm4 0h-2v-4h2v4z\"/>\n",
              "    </g>\n",
              "</svg>\n",
              "  </button>\n",
              "\n",
              "<style>\n",
              "  .colab-df-quickchart {\n",
              "      --bg-color: #E8F0FE;\n",
              "      --fill-color: #1967D2;\n",
              "      --hover-bg-color: #E2EBFA;\n",
              "      --hover-fill-color: #174EA6;\n",
              "      --disabled-fill-color: #AAA;\n",
              "      --disabled-bg-color: #DDD;\n",
              "  }\n",
              "\n",
              "  [theme=dark] .colab-df-quickchart {\n",
              "      --bg-color: #3B4455;\n",
              "      --fill-color: #D2E3FC;\n",
              "      --hover-bg-color: #434B5C;\n",
              "      --hover-fill-color: #FFFFFF;\n",
              "      --disabled-bg-color: #3B4455;\n",
              "      --disabled-fill-color: #666;\n",
              "  }\n",
              "\n",
              "  .colab-df-quickchart {\n",
              "    background-color: var(--bg-color);\n",
              "    border: none;\n",
              "    border-radius: 50%;\n",
              "    cursor: pointer;\n",
              "    display: none;\n",
              "    fill: var(--fill-color);\n",
              "    height: 32px;\n",
              "    padding: 0;\n",
              "    width: 32px;\n",
              "  }\n",
              "\n",
              "  .colab-df-quickchart:hover {\n",
              "    background-color: var(--hover-bg-color);\n",
              "    box-shadow: 0 1px 2px rgba(60, 64, 67, 0.3), 0 1px 3px 1px rgba(60, 64, 67, 0.15);\n",
              "    fill: var(--button-hover-fill-color);\n",
              "  }\n",
              "\n",
              "  .colab-df-quickchart-complete:disabled,\n",
              "  .colab-df-quickchart-complete:disabled:hover {\n",
              "    background-color: var(--disabled-bg-color);\n",
              "    fill: var(--disabled-fill-color);\n",
              "    box-shadow: none;\n",
              "  }\n",
              "\n",
              "  .colab-df-spinner {\n",
              "    border: 2px solid var(--fill-color);\n",
              "    border-color: transparent;\n",
              "    border-bottom-color: var(--fill-color);\n",
              "    animation:\n",
              "      spin 1s steps(1) infinite;\n",
              "  }\n",
              "\n",
              "  @keyframes spin {\n",
              "    0% {\n",
              "      border-color: transparent;\n",
              "      border-bottom-color: var(--fill-color);\n",
              "      border-left-color: var(--fill-color);\n",
              "    }\n",
              "    20% {\n",
              "      border-color: transparent;\n",
              "      border-left-color: var(--fill-color);\n",
              "      border-top-color: var(--fill-color);\n",
              "    }\n",
              "    30% {\n",
              "      border-color: transparent;\n",
              "      border-left-color: var(--fill-color);\n",
              "      border-top-color: var(--fill-color);\n",
              "      border-right-color: var(--fill-color);\n",
              "    }\n",
              "    40% {\n",
              "      border-color: transparent;\n",
              "      border-right-color: var(--fill-color);\n",
              "      border-top-color: var(--fill-color);\n",
              "    }\n",
              "    60% {\n",
              "      border-color: transparent;\n",
              "      border-right-color: var(--fill-color);\n",
              "    }\n",
              "    80% {\n",
              "      border-color: transparent;\n",
              "      border-right-color: var(--fill-color);\n",
              "      border-bottom-color: var(--fill-color);\n",
              "    }\n",
              "    90% {\n",
              "      border-color: transparent;\n",
              "      border-bottom-color: var(--fill-color);\n",
              "    }\n",
              "  }\n",
              "</style>\n",
              "\n",
              "  <script>\n",
              "    async function quickchart(key) {\n",
              "      const quickchartButtonEl =\n",
              "        document.querySelector('#' + key + ' button');\n",
              "      quickchartButtonEl.disabled = true;  // To prevent multiple clicks.\n",
              "      quickchartButtonEl.classList.add('colab-df-spinner');\n",
              "      try {\n",
              "        const charts = await google.colab.kernel.invokeFunction(\n",
              "            'suggestCharts', [key], {});\n",
              "      } catch (error) {\n",
              "        console.error('Error during call to suggestCharts:', error);\n",
              "      }\n",
              "      quickchartButtonEl.classList.remove('colab-df-spinner');\n",
              "      quickchartButtonEl.classList.add('colab-df-quickchart-complete');\n",
              "    }\n",
              "    (() => {\n",
              "      let quickchartButtonEl =\n",
              "        document.querySelector('#df-adee45b0-0d67-4614-bc58-5eb3dd21f761 button');\n",
              "      quickchartButtonEl.style.display =\n",
              "        google.colab.kernel.accessAllowed ? 'block' : 'none';\n",
              "    })();\n",
              "  </script>\n",
              "</div>\n",
              "    </div>\n",
              "  </div>\n"
            ],
            "text/plain": [
              "         CC  CM\n",
              "0         0   1\n",
              "1         0   1\n",
              "2         1   0\n",
              "3         1   0\n",
              "4         0   1\n",
              "...      ..  ..\n",
              "5462548   1   0\n",
              "5462549   0   1\n",
              "5462550   0   1\n",
              "5462551   1   0\n",
              "5462552   0   0\n",
              "\n",
              "[5462553 rows x 2 columns]"
            ]
          },
          "execution_count": 112,
          "metadata": {},
          "output_type": "execute_result"
        }
      ],
      "source": [
        "one_hot_client_type"
      ],
      "id": "ccaf02aa-9f66-42fc-a90a-3a244e4bca83"
    },
    {
      "cell_type": "markdown",
      "metadata": {
        "id": "8e40d69c-1319-46dd-a294-463119bd5350"
      },
      "source": [
        "### Adding one-hot encoding for 'client_type' and removing 'client_type' column from data"
      ],
      "id": "8e40d69c-1319-46dd-a294-463119bd5350"
    },
    {
      "cell_type": "code",
      "execution_count": null,
      "metadata": {
        "id": "6a98f65b-7a09-44cd-9c0b-39274090455b"
      },
      "outputs": [],
      "source": [
        "data = data.drop('client_type', axis=1)"
      ],
      "id": "6a98f65b-7a09-44cd-9c0b-39274090455b"
    },
    {
      "cell_type": "code",
      "execution_count": null,
      "metadata": {
        "id": "923cd8b5-fb03-4122-8993-a12282e32ac4"
      },
      "outputs": [],
      "source": [
        "data = data.join(one_hot_client_type)"
      ],
      "id": "923cd8b5-fb03-4122-8993-a12282e32ac4"
    },
    {
      "cell_type": "code",
      "execution_count": null,
      "metadata": {
        "colab": {
          "base_uri": "https://localhost:8080/",
          "height": 206
        },
        "id": "25e9914e-2ab7-471f-b51b-36f378ecd4c9",
        "outputId": "1de68138-574e-47fd-97a8-ef8360978a1f"
      },
      "outputs": [
        {
          "data": {
            "text/html": [
              "\n",
              "  <div id=\"df-91884bcf-7e15-46e8-b994-0c6586a6f388\" class=\"colab-df-container\">\n",
              "    <div>\n",
              "<style scoped>\n",
              "    .dataframe tbody tr th:only-of-type {\n",
              "        vertical-align: middle;\n",
              "    }\n",
              "\n",
              "    .dataframe tbody tr th {\n",
              "        vertical-align: top;\n",
              "    }\n",
              "\n",
              "    .dataframe thead th {\n",
              "        text-align: right;\n",
              "    }\n",
              "</style>\n",
              "<table border=\"1\" class=\"dataframe\">\n",
              "  <thead>\n",
              "    <tr style=\"text-align: right;\">\n",
              "      <th></th>\n",
              "      <th>amount</th>\n",
              "      <th>sender_old_bal</th>\n",
              "      <th>sender_new_bal</th>\n",
              "      <th>dest_old_bal</th>\n",
              "      <th>dest_new_bal</th>\n",
              "      <th>isFraud</th>\n",
              "      <th>CASH_IN</th>\n",
              "      <th>CASH_OUT</th>\n",
              "      <th>DEBIT</th>\n",
              "      <th>PAYM</th>\n",
              "      <th>PAYMENT</th>\n",
              "      <th>TRANSFER</th>\n",
              "      <th>CC</th>\n",
              "      <th>CM</th>\n",
              "    </tr>\n",
              "  </thead>\n",
              "  <tbody>\n",
              "    <tr>\n",
              "      <th>0</th>\n",
              "      <td>9839.64</td>\n",
              "      <td>170136.0</td>\n",
              "      <td>160296.36</td>\n",
              "      <td>0.0</td>\n",
              "      <td>0.0</td>\n",
              "      <td>0.0</td>\n",
              "      <td>0</td>\n",
              "      <td>0</td>\n",
              "      <td>0</td>\n",
              "      <td>0</td>\n",
              "      <td>1</td>\n",
              "      <td>0</td>\n",
              "      <td>0</td>\n",
              "      <td>1</td>\n",
              "    </tr>\n",
              "    <tr>\n",
              "      <th>1</th>\n",
              "      <td>1864.28</td>\n",
              "      <td>21249.0</td>\n",
              "      <td>19384.72</td>\n",
              "      <td>0.0</td>\n",
              "      <td>0.0</td>\n",
              "      <td>0.0</td>\n",
              "      <td>0</td>\n",
              "      <td>0</td>\n",
              "      <td>0</td>\n",
              "      <td>0</td>\n",
              "      <td>1</td>\n",
              "      <td>0</td>\n",
              "      <td>0</td>\n",
              "      <td>1</td>\n",
              "    </tr>\n",
              "    <tr>\n",
              "      <th>2</th>\n",
              "      <td>181.00</td>\n",
              "      <td>181.0</td>\n",
              "      <td>0.00</td>\n",
              "      <td>0.0</td>\n",
              "      <td>0.0</td>\n",
              "      <td>1.0</td>\n",
              "      <td>0</td>\n",
              "      <td>0</td>\n",
              "      <td>0</td>\n",
              "      <td>0</td>\n",
              "      <td>0</td>\n",
              "      <td>1</td>\n",
              "      <td>1</td>\n",
              "      <td>0</td>\n",
              "    </tr>\n",
              "    <tr>\n",
              "      <th>3</th>\n",
              "      <td>181.00</td>\n",
              "      <td>181.0</td>\n",
              "      <td>0.00</td>\n",
              "      <td>21182.0</td>\n",
              "      <td>0.0</td>\n",
              "      <td>1.0</td>\n",
              "      <td>0</td>\n",
              "      <td>1</td>\n",
              "      <td>0</td>\n",
              "      <td>0</td>\n",
              "      <td>0</td>\n",
              "      <td>0</td>\n",
              "      <td>1</td>\n",
              "      <td>0</td>\n",
              "    </tr>\n",
              "    <tr>\n",
              "      <th>4</th>\n",
              "      <td>11668.14</td>\n",
              "      <td>41554.0</td>\n",
              "      <td>29885.86</td>\n",
              "      <td>0.0</td>\n",
              "      <td>0.0</td>\n",
              "      <td>0.0</td>\n",
              "      <td>0</td>\n",
              "      <td>0</td>\n",
              "      <td>0</td>\n",
              "      <td>0</td>\n",
              "      <td>1</td>\n",
              "      <td>0</td>\n",
              "      <td>0</td>\n",
              "      <td>1</td>\n",
              "    </tr>\n",
              "  </tbody>\n",
              "</table>\n",
              "</div>\n",
              "    <div class=\"colab-df-buttons\">\n",
              "\n",
              "  <div class=\"colab-df-container\">\n",
              "    <button class=\"colab-df-convert\" onclick=\"convertToInteractive('df-91884bcf-7e15-46e8-b994-0c6586a6f388')\"\n",
              "            title=\"Convert this dataframe to an interactive table.\"\n",
              "            style=\"display:none;\">\n",
              "\n",
              "  <svg xmlns=\"http://www.w3.org/2000/svg\" height=\"24px\" viewBox=\"0 -960 960 960\">\n",
              "    <path d=\"M120-120v-720h720v720H120Zm60-500h600v-160H180v160Zm220 220h160v-160H400v160Zm0 220h160v-160H400v160ZM180-400h160v-160H180v160Zm440 0h160v-160H620v160ZM180-180h160v-160H180v160Zm440 0h160v-160H620v160Z\"/>\n",
              "  </svg>\n",
              "    </button>\n",
              "\n",
              "  <style>\n",
              "    .colab-df-container {\n",
              "      display:flex;\n",
              "      gap: 12px;\n",
              "    }\n",
              "\n",
              "    .colab-df-convert {\n",
              "      background-color: #E8F0FE;\n",
              "      border: none;\n",
              "      border-radius: 50%;\n",
              "      cursor: pointer;\n",
              "      display: none;\n",
              "      fill: #1967D2;\n",
              "      height: 32px;\n",
              "      padding: 0 0 0 0;\n",
              "      width: 32px;\n",
              "    }\n",
              "\n",
              "    .colab-df-convert:hover {\n",
              "      background-color: #E2EBFA;\n",
              "      box-shadow: 0px 1px 2px rgba(60, 64, 67, 0.3), 0px 1px 3px 1px rgba(60, 64, 67, 0.15);\n",
              "      fill: #174EA6;\n",
              "    }\n",
              "\n",
              "    .colab-df-buttons div {\n",
              "      margin-bottom: 4px;\n",
              "    }\n",
              "\n",
              "    [theme=dark] .colab-df-convert {\n",
              "      background-color: #3B4455;\n",
              "      fill: #D2E3FC;\n",
              "    }\n",
              "\n",
              "    [theme=dark] .colab-df-convert:hover {\n",
              "      background-color: #434B5C;\n",
              "      box-shadow: 0px 1px 3px 1px rgba(0, 0, 0, 0.15);\n",
              "      filter: drop-shadow(0px 1px 2px rgba(0, 0, 0, 0.3));\n",
              "      fill: #FFFFFF;\n",
              "    }\n",
              "  </style>\n",
              "\n",
              "    <script>\n",
              "      const buttonEl =\n",
              "        document.querySelector('#df-91884bcf-7e15-46e8-b994-0c6586a6f388 button.colab-df-convert');\n",
              "      buttonEl.style.display =\n",
              "        google.colab.kernel.accessAllowed ? 'block' : 'none';\n",
              "\n",
              "      async function convertToInteractive(key) {\n",
              "        const element = document.querySelector('#df-91884bcf-7e15-46e8-b994-0c6586a6f388');\n",
              "        const dataTable =\n",
              "          await google.colab.kernel.invokeFunction('convertToInteractive',\n",
              "                                                    [key], {});\n",
              "        if (!dataTable) return;\n",
              "\n",
              "        const docLinkHtml = 'Like what you see? Visit the ' +\n",
              "          '<a target=\"_blank\" href=https://colab.research.google.com/notebooks/data_table.ipynb>data table notebook</a>'\n",
              "          + ' to learn more about interactive tables.';\n",
              "        element.innerHTML = '';\n",
              "        dataTable['output_type'] = 'display_data';\n",
              "        await google.colab.output.renderOutput(dataTable, element);\n",
              "        const docLink = document.createElement('div');\n",
              "        docLink.innerHTML = docLinkHtml;\n",
              "        element.appendChild(docLink);\n",
              "      }\n",
              "    </script>\n",
              "  </div>\n",
              "\n",
              "\n",
              "<div id=\"df-9c986f79-feb2-4a25-9d63-1f13d3b50a0a\">\n",
              "  <button class=\"colab-df-quickchart\" onclick=\"quickchart('df-9c986f79-feb2-4a25-9d63-1f13d3b50a0a')\"\n",
              "            title=\"Suggest charts.\"\n",
              "            style=\"display:none;\">\n",
              "\n",
              "<svg xmlns=\"http://www.w3.org/2000/svg\" height=\"24px\"viewBox=\"0 0 24 24\"\n",
              "     width=\"24px\">\n",
              "    <g>\n",
              "        <path d=\"M19 3H5c-1.1 0-2 .9-2 2v14c0 1.1.9 2 2 2h14c1.1 0 2-.9 2-2V5c0-1.1-.9-2-2-2zM9 17H7v-7h2v7zm4 0h-2V7h2v10zm4 0h-2v-4h2v4z\"/>\n",
              "    </g>\n",
              "</svg>\n",
              "  </button>\n",
              "\n",
              "<style>\n",
              "  .colab-df-quickchart {\n",
              "      --bg-color: #E8F0FE;\n",
              "      --fill-color: #1967D2;\n",
              "      --hover-bg-color: #E2EBFA;\n",
              "      --hover-fill-color: #174EA6;\n",
              "      --disabled-fill-color: #AAA;\n",
              "      --disabled-bg-color: #DDD;\n",
              "  }\n",
              "\n",
              "  [theme=dark] .colab-df-quickchart {\n",
              "      --bg-color: #3B4455;\n",
              "      --fill-color: #D2E3FC;\n",
              "      --hover-bg-color: #434B5C;\n",
              "      --hover-fill-color: #FFFFFF;\n",
              "      --disabled-bg-color: #3B4455;\n",
              "      --disabled-fill-color: #666;\n",
              "  }\n",
              "\n",
              "  .colab-df-quickchart {\n",
              "    background-color: var(--bg-color);\n",
              "    border: none;\n",
              "    border-radius: 50%;\n",
              "    cursor: pointer;\n",
              "    display: none;\n",
              "    fill: var(--fill-color);\n",
              "    height: 32px;\n",
              "    padding: 0;\n",
              "    width: 32px;\n",
              "  }\n",
              "\n",
              "  .colab-df-quickchart:hover {\n",
              "    background-color: var(--hover-bg-color);\n",
              "    box-shadow: 0 1px 2px rgba(60, 64, 67, 0.3), 0 1px 3px 1px rgba(60, 64, 67, 0.15);\n",
              "    fill: var(--button-hover-fill-color);\n",
              "  }\n",
              "\n",
              "  .colab-df-quickchart-complete:disabled,\n",
              "  .colab-df-quickchart-complete:disabled:hover {\n",
              "    background-color: var(--disabled-bg-color);\n",
              "    fill: var(--disabled-fill-color);\n",
              "    box-shadow: none;\n",
              "  }\n",
              "\n",
              "  .colab-df-spinner {\n",
              "    border: 2px solid var(--fill-color);\n",
              "    border-color: transparent;\n",
              "    border-bottom-color: var(--fill-color);\n",
              "    animation:\n",
              "      spin 1s steps(1) infinite;\n",
              "  }\n",
              "\n",
              "  @keyframes spin {\n",
              "    0% {\n",
              "      border-color: transparent;\n",
              "      border-bottom-color: var(--fill-color);\n",
              "      border-left-color: var(--fill-color);\n",
              "    }\n",
              "    20% {\n",
              "      border-color: transparent;\n",
              "      border-left-color: var(--fill-color);\n",
              "      border-top-color: var(--fill-color);\n",
              "    }\n",
              "    30% {\n",
              "      border-color: transparent;\n",
              "      border-left-color: var(--fill-color);\n",
              "      border-top-color: var(--fill-color);\n",
              "      border-right-color: var(--fill-color);\n",
              "    }\n",
              "    40% {\n",
              "      border-color: transparent;\n",
              "      border-right-color: var(--fill-color);\n",
              "      border-top-color: var(--fill-color);\n",
              "    }\n",
              "    60% {\n",
              "      border-color: transparent;\n",
              "      border-right-color: var(--fill-color);\n",
              "    }\n",
              "    80% {\n",
              "      border-color: transparent;\n",
              "      border-right-color: var(--fill-color);\n",
              "      border-bottom-color: var(--fill-color);\n",
              "    }\n",
              "    90% {\n",
              "      border-color: transparent;\n",
              "      border-bottom-color: var(--fill-color);\n",
              "    }\n",
              "  }\n",
              "</style>\n",
              "\n",
              "  <script>\n",
              "    async function quickchart(key) {\n",
              "      const quickchartButtonEl =\n",
              "        document.querySelector('#' + key + ' button');\n",
              "      quickchartButtonEl.disabled = true;  // To prevent multiple clicks.\n",
              "      quickchartButtonEl.classList.add('colab-df-spinner');\n",
              "      try {\n",
              "        const charts = await google.colab.kernel.invokeFunction(\n",
              "            'suggestCharts', [key], {});\n",
              "      } catch (error) {\n",
              "        console.error('Error during call to suggestCharts:', error);\n",
              "      }\n",
              "      quickchartButtonEl.classList.remove('colab-df-spinner');\n",
              "      quickchartButtonEl.classList.add('colab-df-quickchart-complete');\n",
              "    }\n",
              "    (() => {\n",
              "      let quickchartButtonEl =\n",
              "        document.querySelector('#df-9c986f79-feb2-4a25-9d63-1f13d3b50a0a button');\n",
              "      quickchartButtonEl.style.display =\n",
              "        google.colab.kernel.accessAllowed ? 'block' : 'none';\n",
              "    })();\n",
              "  </script>\n",
              "</div>\n",
              "    </div>\n",
              "  </div>\n"
            ],
            "text/plain": [
              "     amount  sender_old_bal  sender_new_bal  dest_old_bal  dest_new_bal  \\\n",
              "0   9839.64        170136.0       160296.36           0.0           0.0   \n",
              "1   1864.28         21249.0        19384.72           0.0           0.0   \n",
              "2    181.00           181.0            0.00           0.0           0.0   \n",
              "3    181.00           181.0            0.00       21182.0           0.0   \n",
              "4  11668.14         41554.0        29885.86           0.0           0.0   \n",
              "\n",
              "   isFraud  CASH_IN  CASH_OUT  DEBIT  PAYM  PAYMENT  TRANSFER  CC  CM  \n",
              "0      0.0        0         0      0     0        1         0   0   1  \n",
              "1      0.0        0         0      0     0        1         0   0   1  \n",
              "2      1.0        0         0      0     0        0         1   1   0  \n",
              "3      1.0        0         1      0     0        0         0   1   0  \n",
              "4      0.0        0         0      0     0        1         0   0   1  "
            ]
          },
          "execution_count": 115,
          "metadata": {},
          "output_type": "execute_result"
        }
      ],
      "source": [
        "data.head()"
      ],
      "id": "25e9914e-2ab7-471f-b51b-36f378ecd4c9"
    },
    {
      "cell_type": "markdown",
      "metadata": {
        "id": "c6d4ff90-20fe-4053-8b25-428496fc7f95"
      },
      "source": [
        "### Obtaining X and y"
      ],
      "id": "c6d4ff90-20fe-4053-8b25-428496fc7f95"
    },
    {
      "cell_type": "code",
      "execution_count": null,
      "metadata": {
        "colab": {
          "base_uri": "https://localhost:8080/"
        },
        "id": "f43984ca-527f-4872-a28e-df94893bd2cc",
        "outputId": "9d228849-d813-479b-a597-bee7c82c0ab5"
      },
      "outputs": [
        {
          "name": "stdout",
          "output_type": "stream",
          "text": [
            "X:\n",
            "     amount  sender_old_bal  sender_new_bal  dest_old_bal  dest_new_bal  \\\n",
            "0   9839.64        170136.0       160296.36           0.0           0.0   \n",
            "1   1864.28         21249.0        19384.72           0.0           0.0   \n",
            "2    181.00           181.0            0.00           0.0           0.0   \n",
            "3    181.00           181.0            0.00       21182.0           0.0   \n",
            "4  11668.14         41554.0        29885.86           0.0           0.0   \n",
            "\n",
            "   CASH_IN  CASH_OUT  DEBIT  PAYM  PAYMENT  TRANSFER  CC  CM  \n",
            "0        0         0      0     0        1         0   0   1  \n",
            "1        0         0      0     0        1         0   0   1  \n",
            "2        0         0      0     0        0         1   1   0  \n",
            "3        0         1      0     0        0         0   1   0  \n",
            "4        0         0      0     0        1         0   0   1  \n",
            "y:\n",
            "0    0.0\n",
            "1    0.0\n",
            "2    1.0\n",
            "3    1.0\n",
            "4    0.0\n",
            "Name: isFraud, dtype: float64\n"
          ]
        }
      ],
      "source": [
        "y = data.isFraud.fillna(value = 0)\n",
        "X = data.drop('isFraud', axis=1).fillna(value = 0)\n",
        "print(\"X:\")\n",
        "print(X.head())\n",
        "print(\"y:\")\n",
        "print(y.head())"
      ],
      "id": "f43984ca-527f-4872-a28e-df94893bd2cc"
    },
    {
      "cell_type": "code",
      "execution_count": null,
      "metadata": {
        "id": "317e7176-0267-45ae-b919-818fa349b03d"
      },
      "outputs": [],
      "source": [
        "X_train, X_test, y_train, y_test = train_test_split(X,y, test_size=0.25, stratify=y)"
      ],
      "id": "317e7176-0267-45ae-b919-818fa349b03d"
    },
    {
      "cell_type": "markdown",
      "metadata": {
        "id": "60655e77-6ed2-4b85-b294-e737be50f5e1"
      },
      "source": [
        "### Normalizing X_train and X-test"
      ],
      "id": "60655e77-6ed2-4b85-b294-e737be50f5e1"
    },
    {
      "cell_type": "code",
      "execution_count": null,
      "metadata": {
        "id": "41ab8a13-2ef3-4a5e-964f-478997e8cd25"
      },
      "outputs": [],
      "source": [
        "sc = StandardScaler()"
      ],
      "id": "41ab8a13-2ef3-4a5e-964f-478997e8cd25"
    },
    {
      "cell_type": "code",
      "execution_count": null,
      "metadata": {
        "id": "69891a72-5e64-4c4e-ac66-e76a1af65085"
      },
      "outputs": [],
      "source": [
        "X_train = sc.fit_transform(X_train)\n",
        "X_test = sc.fit_transform(X_test)"
      ],
      "id": "69891a72-5e64-4c4e-ac66-e76a1af65085"
    },
    {
      "cell_type": "markdown",
      "metadata": {
        "id": "e1325ee5-9385-47c3-b36b-e38874a34a74"
      },
      "source": [
        "## Machine Learning"
      ],
      "id": "e1325ee5-9385-47c3-b36b-e38874a34a74"
    },
    {
      "cell_type": "markdown",
      "metadata": {
        "id": "689d7f98-3562-4adf-8196-ea2d406fe4a9"
      },
      "source": [
        "### Importing necessary libraries"
      ],
      "id": "689d7f98-3562-4adf-8196-ea2d406fe4a9"
    },
    {
      "cell_type": "code",
      "execution_count": null,
      "metadata": {
        "id": "5e9f2521-048e-40a6-b041-a08ba13146f5"
      },
      "outputs": [],
      "source": [
        "from sklearn.ensemble import RandomForestClassifier\n",
        "from lightgbm.sklearn import LGBMClassifier\n",
        "import xgboost as xgb\n",
        "from sklearn.linear_model import LogisticRegression"
      ],
      "id": "5e9f2521-048e-40a6-b041-a08ba13146f5"
    },
    {
      "cell_type": "code",
      "execution_count": null,
      "metadata": {
        "id": "9c7fbc3c-347d-4ccd-8dc2-21fe4acad5af"
      },
      "outputs": [],
      "source": [
        "from sklearn.metrics import roc_auc_score\n",
        "from sklearn.metrics import hamming_loss"
      ],
      "id": "9c7fbc3c-347d-4ccd-8dc2-21fe4acad5af"
    },
    {
      "cell_type": "markdown",
      "metadata": {
        "id": "1a1a2ede-67df-4e28-867f-3c33eedb0f42"
      },
      "source": [
        "### Creating list of ML models"
      ],
      "id": "1a1a2ede-67df-4e28-867f-3c33eedb0f42"
    },
    {
      "cell_type": "code",
      "execution_count": null,
      "metadata": {
        "id": "84efb807-cd5f-41c4-a7d6-66c17ed9187e"
      },
      "outputs": [],
      "source": [
        "xgbc = xgb.XGBClassifier(max_depth=3, n_jobs=-1, random_state=42, learning_rate=0.1)\n",
        "rfc = RandomForestClassifier(n_estimators=15, n_jobs=-1, random_state=42)\n",
        "lgbmc = LGBMClassifier(boosting_type='gbdt', objective='binary', random_sate=8888)\n",
        "logreg = LogisticRegression(solver='liblinear', random_state=42)"
      ],
      "id": "84efb807-cd5f-41c4-a7d6-66c17ed9187e"
    },
    {
      "cell_type": "code",
      "execution_count": null,
      "metadata": {
        "id": "e9ac6e3f-5239-4d6b-8b86-1a7a38c1c62a"
      },
      "outputs": [],
      "source": [
        "clsrs = []\n",
        "clsrs.append(xgbc)\n",
        "clsrs.append(rfc)\n",
        "clsrs.append(lgbmc)\n",
        "clsrs.append(logreg)"
      ],
      "id": "e9ac6e3f-5239-4d6b-8b86-1a7a38c1c62a"
    },
    {
      "cell_type": "markdown",
      "metadata": {
        "id": "98eaf7bd-1320-4a74-8a61-0438cdbb3f23"
      },
      "source": [
        "### Training ML models"
      ],
      "id": "98eaf7bd-1320-4a74-8a61-0438cdbb3f23"
    },
    {
      "cell_type": "code",
      "execution_count": null,
      "metadata": {
        "colab": {
          "background_save": true,
          "base_uri": "https://localhost:8080/"
        },
        "id": "469532b7-fc32-473f-aa6a-11cfef5a425a",
        "outputId": "717996ff-7e25-4498-9108-b5e4461a1ab1"
      },
      "outputs": [
        {
          "name": "stdout",
          "output_type": "stream",
          "text": [
            "[LightGBM] [Warning] Unknown parameter: random_sate\n",
            "[LightGBM] [Warning] Unknown parameter: random_sate\n",
            "[LightGBM] [Info] Number of positive: 3163, number of negative: 4093751\n",
            "[LightGBM] [Warning] Auto-choosing row-wise multi-threading, the overhead of testing was 0.377951 seconds.\n",
            "You can set `force_row_wise=true` to remove the overhead.\n",
            "And if memory is not enough, you can set `force_col_wise=true`.\n",
            "[LightGBM] [Info] Total Bins 1298\n",
            "[LightGBM] [Info] Number of data points in the train set: 4096914, number of used features: 13\n",
            "[LightGBM] [Info] [binary:BoostFromScore]: pavg=0.000772 -> initscore=-7.165696\n",
            "[LightGBM] [Info] Start training from score -7.165696\n"
          ]
        }
      ],
      "source": [
        "for clsr in clsrs:\n",
        "    clsr.fit(X_train, y_train)"
      ],
      "id": "469532b7-fc32-473f-aa6a-11cfef5a425a"
    },
    {
      "cell_type": "markdown",
      "metadata": {
        "id": "6b576a9d-7c79-4e33-a215-e3568aa283a1"
      },
      "source": [
        "### Obtaining prediction and accuracy (hml and auc) calculations"
      ],
      "id": "6b576a9d-7c79-4e33-a215-e3568aa283a1"
    },
    {
      "cell_type": "code",
      "execution_count": null,
      "metadata": {
        "colab": {
          "background_save": true
        },
        "id": "a0ee5a5f-f853-4caf-9ea0-a439030e7887"
      },
      "outputs": [],
      "source": [
        "hml_list = []\n",
        "auc_list = []"
      ],
      "id": "a0ee5a5f-f853-4caf-9ea0-a439030e7887"
    },
    {
      "cell_type": "code",
      "execution_count": null,
      "metadata": {
        "id": "6daaeef8-6219-4735-b27d-50f45921f87e"
      },
      "outputs": [],
      "source": [
        "for clsr in clsrs:\n",
        "    y_pred = clsr.predict(X_test)\n",
        "    y_prob = clsr.predict_proba(X_test)[:,-1]\n",
        "    hml_list.append(hamming_loss(y_test, y_pred))\n",
        "    auc_list.append(roc_auc_score(y_test, y_prob))"
      ],
      "id": "6daaeef8-6219-4735-b27d-50f45921f87e"
    },
    {
      "cell_type": "markdown",
      "metadata": {
        "id": "5563a017-3aaf-4101-ad7a-3f1877a5be6b"
      },
      "source": [
        "### Creating accuracy dictionaries"
      ],
      "id": "5563a017-3aaf-4101-ad7a-3f1877a5be6b"
    },
    {
      "cell_type": "code",
      "execution_count": null,
      "metadata": {
        "colab": {
          "background_save": true
        },
        "id": "9ba8cd10-52ca-40d2-8dc1-bdb64ccea12b"
      },
      "outputs": [],
      "source": [
        "hml_dict = {}\n",
        "auc_dict = {}\n",
        "keys = ['XGBoost', 'Random Forest', 'Light GBM', 'LR']"
      ],
      "id": "9ba8cd10-52ca-40d2-8dc1-bdb64ccea12b"
    },
    {
      "cell_type": "code",
      "execution_count": null,
      "metadata": {
        "colab": {
          "background_save": true
        },
        "id": "6558b384-6951-4323-9fd7-e0c20e9c228d"
      },
      "outputs": [],
      "source": [
        "for i in range(len(keys)):\n",
        "    key = keys[i]\n",
        "    hml_dict[key] = hml_list[i]\n",
        "    auc_dict[key] = auc_list[i]"
      ],
      "id": "6558b384-6951-4323-9fd7-e0c20e9c228d"
    },
    {
      "cell_type": "code",
      "execution_count": null,
      "metadata": {
        "id": "efe25495-c4c6-45fb-9e51-2673e26d99dd"
      },
      "outputs": [],
      "source": [
        "hml_dict_s = dict(sorted(hml_dict.items(), key=lambda item: item[1]))\n",
        "hml_dict_s"
      ],
      "id": "efe25495-c4c6-45fb-9e51-2673e26d99dd"
    },
    {
      "cell_type": "code",
      "execution_count": null,
      "metadata": {
        "id": "cbfde667-1359-4819-8713-f42e44af9fca"
      },
      "outputs": [],
      "source": [
        "auc_dict_s = dict(sorted(auc_dict.items(), key=lambda item: item[1]))\n",
        "auc_dict_s"
      ],
      "id": "cbfde667-1359-4819-8713-f42e44af9fca"
    },
    {
      "cell_type": "markdown",
      "metadata": {
        "id": "93866104-88cd-4ad4-8bcc-abba4dffa066"
      },
      "source": [
        "### Plotting AUC accuracy scores (Higher AUC score indicates better result)"
      ],
      "id": "93866104-88cd-4ad4-8bcc-abba4dffa066"
    },
    {
      "cell_type": "code",
      "execution_count": null,
      "metadata": {
        "id": "0e5b98b5-2e73-4237-8cfc-f32b91418433"
      },
      "outputs": [],
      "source": [
        "import plotly\n",
        "plotly.io.renderers.default = 'png'\n",
        "plotly.io.renderers.default = 'jupyterlab'"
      ],
      "id": "0e5b98b5-2e73-4237-8cfc-f32b91418433"
    },
    {
      "cell_type": "code",
      "execution_count": null,
      "metadata": {
        "id": "b79a3cff-ffbb-4258-9b50-58f7e5f81ffb"
      },
      "outputs": [],
      "source": [
        "fig = px.bar(x=list(auc_dict_s.keys()), y=list(auc_dict_s.values()), text=np.round(list(auc_dict_s.values()), 6),\n",
        "            title='Accuracy (AUC) score of each Classifier',color=list(auc_dict_s.keys()),\n",
        "            color_discrete_sequence=px.colors.sequential.matter)\n",
        "fig.show()"
      ],
      "id": "b79a3cff-ffbb-4258-9b50-58f7e5f81ffb"
    },
    {
      "cell_type": "markdown",
      "metadata": {
        "id": "9b3051ba-1879-488a-be4b-872b8eb4a94c"
      },
      "source": [
        "### Plotting Accuracy (Hamming Loss) scores (Lower score indicates better results)"
      ],
      "id": "9b3051ba-1879-488a-be4b-872b8eb4a94c"
    },
    {
      "cell_type": "code",
      "execution_count": null,
      "metadata": {
        "id": "613faaeb-2883-484e-8699-2493903d126b"
      },
      "outputs": [],
      "source": [
        "fig = px.bar(x=list(hml_dict_s.keys()), y=list(hml_dict_s.values()), text=np.round(list(hml_dict_s.values()), 6),\n",
        "            title='Accuracy (Hamming Loss) score of each Classifier',color=list(hml_dict_s.keys()),\n",
        "            color_discrete_sequence=px.colors.sequential.matter)\n",
        "fig.show()"
      ],
      "id": "613faaeb-2883-484e-8699-2493903d126b"
    },
    {
      "cell_type": "markdown",
      "metadata": {
        "id": "15007d4c-d507-4552-971b-d59fa275aa46"
      },
      "source": [
        "### Insights"
      ],
      "id": "15007d4c-d507-4552-971b-d59fa275aa46"
    },
    {
      "cell_type": "markdown",
      "metadata": {
        "id": "0abc8e4f-e662-414f-88d3-c9f3518b23ae"
      },
      "source": [
        "<ul>\n",
        "    <li><b>Logistic Regression</b> has the <b>best</b> performance with the - </li>\n",
        "    <ul>\n",
        "        <li>best (highest) AUC score - 0.983745</li>\n",
        "        <li>best (lowest) Hammington Loss score - 0.000834</li>\n",
        "    </ul>\n",
        "    <li><b>Light Gradient-Boosting Machine</b> has <b>worst</b> performance with the - </li>\n",
        "    <ul>\n",
        "        <li>worst (lowest) AUC score - 0.493639</li>\n",
        "        <li>worst (highest) Hamming Loss score - 0.00142</li>\n",
        "    </ul>"
      ],
      "id": "0abc8e4f-e662-414f-88d3-c9f3518b23ae"
    },
    {
      "cell_type": "markdown",
      "metadata": {
        "id": "552cd259-23b7-42a1-ab23-61052e8b2cab"
      },
      "source": [
        "## Neural Network"
      ],
      "id": "552cd259-23b7-42a1-ab23-61052e8b2cab"
    },
    {
      "cell_type": "markdown",
      "metadata": {
        "id": "2e2bb58e-d06a-4a59-9dd6-5932532be022"
      },
      "source": [
        "#### Importing Libraries"
      ],
      "id": "2e2bb58e-d06a-4a59-9dd6-5932532be022"
    },
    {
      "cell_type": "code",
      "execution_count": null,
      "metadata": {
        "id": "3e7ee91d-554d-43e6-95d1-1253237cd955"
      },
      "outputs": [],
      "source": [
        "from tensorflow.keras.models import Sequential\n",
        "from tensorflow.keras.layers import Dense"
      ],
      "id": "3e7ee91d-554d-43e6-95d1-1253237cd955"
    },
    {
      "cell_type": "markdown",
      "metadata": {
        "id": "761787c5-5d72-4002-9094-ebc69123c5f8"
      },
      "source": [
        "#### Creating Network"
      ],
      "id": "761787c5-5d72-4002-9094-ebc69123c5f8"
    },
    {
      "cell_type": "code",
      "execution_count": null,
      "metadata": {
        "id": "ce1e0313-a886-49ac-8afd-93b2c50da281"
      },
      "outputs": [],
      "source": [
        "print(X_train.shape)"
      ],
      "id": "ce1e0313-a886-49ac-8afd-93b2c50da281"
    },
    {
      "cell_type": "code",
      "execution_count": null,
      "metadata": {
        "id": "4d8a2f84-3211-48e5-8b25-f3ec2b92a531"
      },
      "outputs": [],
      "source": [
        "dnn = Sequential()\n",
        "dnn.add(Dense(16, input_shape=(12,), activation='relu'))\n",
        "dnn.add(Dense(32, activation='relu'))\n",
        "dnn.add(Dense(8, activation='relu'))\n",
        "dnn.add(Dense(1, activation='sigmoid'))\n",
        "\n",
        "print(dnn.summary())"
      ],
      "id": "4d8a2f84-3211-48e5-8b25-f3ec2b92a531"
    },
    {
      "cell_type": "markdown",
      "metadata": {
        "id": "c239d780-c5a6-49bc-90cd-46785b416d39"
      },
      "source": [
        "#### Compile and Train network"
      ],
      "id": "c239d780-c5a6-49bc-90cd-46785b416d39"
    },
    {
      "cell_type": "code",
      "execution_count": null,
      "metadata": {
        "id": "af4a8efe-fcd4-4533-9125-521a9f06df8d"
      },
      "outputs": [],
      "source": [
        "dnn.compile(loss='binary_crossentropy', optimizer='adam', metrics=['accuracy'])"
      ],
      "id": "af4a8efe-fcd4-4533-9125-521a9f06df8d"
    },
    {
      "cell_type": "code",
      "execution_count": null,
      "metadata": {
        "id": "1a8e049d-55b9-459d-96c6-b8d8e8415647"
      },
      "outputs": [],
      "source": [
        "dnn.fit(X_train, y_train, epochs=15, batch_size=250, verbose=1, validation_split=0.2)"
      ],
      "id": "1a8e049d-55b9-459d-96c6-b8d8e8415647"
    },
    {
      "cell_type": "markdown",
      "metadata": {
        "id": "a67f88da-e226-45df-8261-7edbfaf69051"
      },
      "source": [
        "#### Finding DNN network predictions and prediction probabilities"
      ],
      "id": "a67f88da-e226-45df-8261-7edbfaf69051"
    },
    {
      "cell_type": "code",
      "execution_count": null,
      "metadata": {
        "id": "8cb01b3c-a241-4840-bff4-cd353564297f"
      },
      "outputs": [],
      "source": [
        "y_prob = dnn.predict(X_test)"
      ],
      "id": "8cb01b3c-a241-4840-bff4-cd353564297f"
    },
    {
      "cell_type": "code",
      "execution_count": null,
      "metadata": {
        "id": "f0143d22-52ed-4add-bd6b-67a8ba8bc496"
      },
      "outputs": [],
      "source": [
        "y_pred = []\n",
        "for y_p in y_prob:\n",
        "    if y_p >= 0.5:\n",
        "        y_pred.append(1)\n",
        "    else:\n",
        "        y_pred.append(0)"
      ],
      "id": "f0143d22-52ed-4add-bd6b-67a8ba8bc496"
    },
    {
      "cell_type": "code",
      "execution_count": null,
      "metadata": {
        "id": "c53f90a1-5a81-40c1-93a4-3b950f78f44f"
      },
      "outputs": [],
      "source": [
        "y_pred[0:5]"
      ],
      "id": "c53f90a1-5a81-40c1-93a4-3b950f78f44f"
    },
    {
      "cell_type": "code",
      "execution_count": null,
      "metadata": {
        "id": "83c628a4-e547-4020-8f64-e46e7af28f80"
      },
      "outputs": [],
      "source": [
        "y_prob[0:5]"
      ],
      "id": "83c628a4-e547-4020-8f64-e46e7af28f80"
    },
    {
      "cell_type": "markdown",
      "metadata": {
        "id": "f4c7a4df-8892-4b38-8625-49dfb8ff701d"
      },
      "source": [
        "#### Calculating accuracy scores (AUC and Hamming Loss)"
      ],
      "id": "f4c7a4df-8892-4b38-8625-49dfb8ff701d"
    },
    {
      "cell_type": "code",
      "execution_count": null,
      "metadata": {
        "id": "f3eabf51-e194-4417-96ac-503adf99895a"
      },
      "outputs": [],
      "source": [
        "dnn_auc = roc_auc_score(y_test, y_prob)\n",
        "print(f\"AUC score is: {dnn_auc}\")"
      ],
      "id": "f3eabf51-e194-4417-96ac-503adf99895a"
    },
    {
      "cell_type": "code",
      "execution_count": null,
      "metadata": {
        "id": "8ad46b83-280d-4b54-9a4a-35f7af7b0ec0"
      },
      "outputs": [],
      "source": [
        "dnn_hml = hamming_loss(y_test, y_pred)\n",
        "print(f\"Hamming Loss is: {dnn_hml}\")"
      ],
      "id": "8ad46b83-280d-4b54-9a4a-35f7af7b0ec0"
    },
    {
      "cell_type": "markdown",
      "metadata": {
        "id": "2766ff93-ee00-492a-8041-5956d4252afc"
      },
      "source": [
        "### Radial Neural Network (RNN)"
      ],
      "id": "2766ff93-ee00-492a-8041-5956d4252afc"
    },
    {
      "cell_type": "markdown",
      "metadata": {
        "id": "477821b7-4077-4165-a4f3-2ed76461913f"
      },
      "source": [
        "#### Importing Libraries"
      ],
      "id": "477821b7-4077-4165-a4f3-2ed76461913f"
    },
    {
      "cell_type": "code",
      "execution_count": null,
      "metadata": {
        "id": "55250101-bc1a-49cf-b819-aaf03f5c5ae8"
      },
      "outputs": [],
      "source": [
        "from tensorflow.keras.layers import SimpleRNN"
      ],
      "id": "55250101-bc1a-49cf-b819-aaf03f5c5ae8"
    },
    {
      "cell_type": "markdown",
      "metadata": {
        "id": "fcdf33e5-65a5-4cff-a6e4-9f9babb2d0eb"
      },
      "source": [
        "#### Reshaping X_train and X_test for use with RNN"
      ],
      "id": "fcdf33e5-65a5-4cff-a6e4-9f9babb2d0eb"
    },
    {
      "cell_type": "code",
      "execution_count": null,
      "metadata": {
        "id": "c2244aa2-8fdd-4d93-bbd5-6f0cf4d64ba6"
      },
      "outputs": [],
      "source": [
        "X_train_rnn = X_train.reshape((X_train.shape[0], 1, X_train.shape[1]))\n",
        "X_test_rnn = X_test.reshape((X_test.shape[0], 1, X_test.shape[1]))\n",
        "print(f\"X_train shape is: {X_train_rnn.shape}, X_test shape is: {X_test_rnn.shape}, y_train shape is: {y_train.shape}, y_test shape is: {y_test.shape}\")"
      ],
      "id": "c2244aa2-8fdd-4d93-bbd5-6f0cf4d64ba6"
    },
    {
      "cell_type": "markdown",
      "metadata": {
        "id": "2e442805-a552-4a3e-8ec2-d31261f40998"
      },
      "source": [
        "#### Creating Network"
      ],
      "id": "2e442805-a552-4a3e-8ec2-d31261f40998"
    },
    {
      "cell_type": "code",
      "execution_count": null,
      "metadata": {
        "id": "85769a28-16cf-4c12-a2c6-65612cb79b94"
      },
      "outputs": [],
      "source": [
        "rnn = Sequential()\n",
        "rnn.add(SimpleRNN(16, input_shape=(X_train_rnn.shape[1], X_train_rnn.shape[2]), return_sequences=True))\n",
        "rnn.add(SimpleRNN(32))\n",
        "rnn.add(Dense(16, activation='relu'))\n",
        "rnn.add(Dense(1, activation='sigmoid'))\n",
        "\n",
        "print(rnn.summary())"
      ],
      "id": "85769a28-16cf-4c12-a2c6-65612cb79b94"
    },
    {
      "cell_type": "markdown",
      "metadata": {
        "id": "546c857d-4287-469d-97d3-7713b90f7a51"
      },
      "source": [
        "#### Compile and Train Network"
      ],
      "id": "546c857d-4287-469d-97d3-7713b90f7a51"
    },
    {
      "cell_type": "code",
      "execution_count": null,
      "metadata": {
        "id": "b566863f-8d30-471a-bfa1-1e23874274fa"
      },
      "outputs": [],
      "source": [
        "rnn.compile(loss='binary_crossentropy', optimizer='adam', metrics=['accuracy'])"
      ],
      "id": "b566863f-8d30-471a-bfa1-1e23874274fa"
    },
    {
      "cell_type": "code",
      "execution_count": null,
      "metadata": {
        "id": "7854f511-316e-4bd6-b872-d79b5419aeb7"
      },
      "outputs": [],
      "source": [
        "rnn.fit(X_train_rnn, y_train, epochs=15, batch_size=250, verbose=1, validation_split=0.2)"
      ],
      "id": "7854f511-316e-4bd6-b872-d79b5419aeb7"
    },
    {
      "cell_type": "markdown",
      "metadata": {
        "id": "eb4247aa-9203-4f52-9b37-d9bb006f47a7"
      },
      "source": [
        "#### Finding RNN network predictions and prediction probabilities"
      ],
      "id": "eb4247aa-9203-4f52-9b37-d9bb006f47a7"
    },
    {
      "cell_type": "code",
      "execution_count": null,
      "metadata": {
        "id": "c0e2ec4e-119b-497c-99ad-4940ad682846"
      },
      "outputs": [],
      "source": [
        "y_prob = rnn.predict(X_test_rnn)"
      ],
      "id": "c0e2ec4e-119b-497c-99ad-4940ad682846"
    },
    {
      "cell_type": "code",
      "execution_count": null,
      "metadata": {
        "id": "610886fd-e912-4ced-b1c9-bc015d5c7a67"
      },
      "outputs": [],
      "source": [
        "y_pred = []\n",
        "for y_p in y_prob:\n",
        "    if y_p >= 0.5:\n",
        "        y_pred.append(1)\n",
        "    else:\n",
        "        y_pred.append(0)"
      ],
      "id": "610886fd-e912-4ced-b1c9-bc015d5c7a67"
    },
    {
      "cell_type": "code",
      "execution_count": null,
      "metadata": {
        "id": "e08d2aba-86c3-41a9-a79c-62c155606735"
      },
      "outputs": [],
      "source": [
        "y_pred[0:5]"
      ],
      "id": "e08d2aba-86c3-41a9-a79c-62c155606735"
    },
    {
      "cell_type": "code",
      "execution_count": null,
      "metadata": {
        "id": "3d4cf6bf-f540-4127-86a1-af2c1f513809"
      },
      "outputs": [],
      "source": [
        "y_prob[0:5]"
      ],
      "id": "3d4cf6bf-f540-4127-86a1-af2c1f513809"
    },
    {
      "cell_type": "markdown",
      "metadata": {
        "id": "f89b378f-81ee-45c1-bdcc-07f7c60b3322"
      },
      "source": [
        "#### Calculating accuracy scores (AUC and Hamming Loss)"
      ],
      "id": "f89b378f-81ee-45c1-bdcc-07f7c60b3322"
    },
    {
      "cell_type": "code",
      "execution_count": null,
      "metadata": {
        "id": "8aa54aea-b984-4320-ad39-71291ad4b4f0"
      },
      "outputs": [],
      "source": [
        "rnn_auc = roc_auc_score(y_test, y_prob)\n",
        "print(f\"AUC score is: {rnn_auc}\")"
      ],
      "id": "8aa54aea-b984-4320-ad39-71291ad4b4f0"
    },
    {
      "cell_type": "code",
      "execution_count": null,
      "metadata": {
        "id": "c6530d5e-f03a-4070-8544-cc2cf0a88952"
      },
      "outputs": [],
      "source": [
        "rnn_hml = hamming_loss(y_test, y_pred)\n",
        "print(f\"Hamming Loss is: {rnn_hml}\")"
      ],
      "id": "c6530d5e-f03a-4070-8544-cc2cf0a88952"
    },
    {
      "cell_type": "markdown",
      "metadata": {
        "id": "b4a2c5bd-cd45-476f-a02c-f5dd472e88dd"
      },
      "source": [
        "### Comparing Neural Network accuracy scores"
      ],
      "id": "b4a2c5bd-cd45-476f-a02c-f5dd472e88dd"
    },
    {
      "cell_type": "code",
      "execution_count": null,
      "metadata": {
        "id": "24d56bec-f75a-47f6-8ca1-c36846082274"
      },
      "outputs": [],
      "source": [
        "keys = ['DNN', 'RNN']"
      ],
      "id": "24d56bec-f75a-47f6-8ca1-c36846082274"
    },
    {
      "cell_type": "code",
      "execution_count": null,
      "metadata": {
        "id": "e48c822f-229c-4041-869c-92d6e8d05244"
      },
      "outputs": [],
      "source": [
        "NN_auc_scrs = []\n",
        "NN_auc_scrs.append(dnn_auc)\n",
        "NN_auc_scrs.append(rnn_auc)"
      ],
      "id": "e48c822f-229c-4041-869c-92d6e8d05244"
    },
    {
      "cell_type": "code",
      "execution_count": null,
      "metadata": {
        "id": "05ce1748-8f2a-4574-85da-754450570a12"
      },
      "outputs": [],
      "source": [
        "NN_hml_scrs = []\n",
        "NN_hml_scrs.append(dnn_hml)\n",
        "NN_hml_scrs.append(rnn_hml)"
      ],
      "id": "05ce1748-8f2a-4574-85da-754450570a12"
    },
    {
      "cell_type": "code",
      "execution_count": null,
      "metadata": {
        "id": "620aad66-981c-4aac-ba27-8e88bf71e20a"
      },
      "outputs": [],
      "source": [
        "NN_auc_dict = {}\n",
        "NN_hml_dict = {}"
      ],
      "id": "620aad66-981c-4aac-ba27-8e88bf71e20a"
    },
    {
      "cell_type": "code",
      "execution_count": null,
      "metadata": {
        "id": "8f5df6b5-71aa-45b4-8ad5-c2ae299c91c4"
      },
      "outputs": [],
      "source": [
        "for i in range(len(keys)):\n",
        "    key = keys[i]\n",
        "    NN_auc_dict[key] = NN_auc_scrs[i]\n",
        "    NN_hml_dict[key] = NN_hml_scrs[i]"
      ],
      "id": "8f5df6b5-71aa-45b4-8ad5-c2ae299c91c4"
    },
    {
      "cell_type": "code",
      "execution_count": null,
      "metadata": {
        "id": "b09e23f7-5e9f-4e72-a49b-b455d1acc674"
      },
      "outputs": [],
      "source": [
        "NN_auc_dict"
      ],
      "id": "b09e23f7-5e9f-4e72-a49b-b455d1acc674"
    },
    {
      "cell_type": "code",
      "execution_count": null,
      "metadata": {
        "id": "6d2f3ee1-efa3-4d64-869c-555ff816a108"
      },
      "outputs": [],
      "source": [
        "NN_hml_dict"
      ],
      "id": "6d2f3ee1-efa3-4d64-869c-555ff816a108"
    },
    {
      "cell_type": "markdown",
      "metadata": {
        "id": "ddceb4f5-7c20-40b2-971d-841acb05075d"
      },
      "source": [
        "#### Plotting AUC accuracy scores (Higher AUC score indicates better result)"
      ],
      "id": "ddceb4f5-7c20-40b2-971d-841acb05075d"
    },
    {
      "cell_type": "code",
      "execution_count": null,
      "metadata": {
        "id": "8dbe79be-8560-44c4-a16f-51e510fe41b1"
      },
      "outputs": [],
      "source": [
        "fig = px.bar(x=list(NN_auc_dict.keys()), y=list(NN_auc_dict.values()), text=np.round(list(NN_auc_dict.values()), 6),\n",
        "            title='Accuracy (AUC) score of each Classifier',color=list(NN_auc_dict.keys()),\n",
        "            color_discrete_sequence=px.colors.sequential.matter)\n",
        "fig.show()"
      ],
      "id": "8dbe79be-8560-44c4-a16f-51e510fe41b1"
    },
    {
      "cell_type": "markdown",
      "metadata": {
        "id": "b84fdcb2-31cd-4c25-b433-e7da7bcf4b95"
      },
      "source": [
        "### Plotting Accuracy (Hamming Loss) scores (Lower score indicates better results)"
      ],
      "id": "b84fdcb2-31cd-4c25-b433-e7da7bcf4b95"
    },
    {
      "cell_type": "code",
      "execution_count": null,
      "metadata": {
        "id": "6a982c18-1a62-432c-8617-7324ff9878c4"
      },
      "outputs": [],
      "source": [
        "fig = px.bar(x=list(NN_hml_dict.keys()), y=list(NN_hml_dict.values()), text=np.round(list(NN_hml_dict.values()), 6),\n",
        "            title='Accuracy (Hamming Loss) score of each Classifier',color=list(NN_hml_dict.keys()),\n",
        "            color_discrete_sequence=px.colors.sequential.matter)\n",
        "fig.show()"
      ],
      "id": "6a982c18-1a62-432c-8617-7324ff9878c4"
    },
    {
      "cell_type": "markdown",
      "metadata": {
        "id": "4fde69c0-95d3-45b8-95c0-c7d4b298b6b2"
      },
      "source": [
        "### Insights"
      ],
      "id": "4fde69c0-95d3-45b8-95c0-c7d4b298b6b2"
    },
    {
      "cell_type": "markdown",
      "metadata": {
        "id": "cc4f16bc-b5f9-4bd2-8a7b-c9cc9a2a328d"
      },
      "source": [
        "<ul>\n",
        "    <li><b>RNN</b> performs better than <b>DNN</b> - </li>\n",
        "    <ul>\n",
        "        <li>RNN has the better (higher) AUC score </li>\n",
        "        <li>RNN has the better (lower) Hammington Loss score </li>"
      ],
      "id": "cc4f16bc-b5f9-4bd2-8a7b-c9cc9a2a328d"
    },
    {
      "cell_type": "markdown",
      "metadata": {
        "id": "2da9f329-6b64-42e1-a336-a28b280492e3"
      },
      "source": [
        "## Combining ML and NN results"
      ],
      "id": "2da9f329-6b64-42e1-a336-a28b280492e3"
    },
    {
      "cell_type": "markdown",
      "metadata": {
        "id": "ae5f3db6-fbe3-4225-993d-0e6883f87578"
      },
      "source": [
        "### AUC score case"
      ],
      "id": "ae5f3db6-fbe3-4225-993d-0e6883f87578"
    },
    {
      "cell_type": "code",
      "execution_count": null,
      "metadata": {
        "id": "79a23d00-4dfd-48c4-ad1c-5c56190b9b7c"
      },
      "outputs": [],
      "source": [
        "auc_comb_dict = auc_dict\n",
        "auc_comb_dict.update(NN_auc_dict)"
      ],
      "id": "79a23d00-4dfd-48c4-ad1c-5c56190b9b7c"
    },
    {
      "cell_type": "code",
      "execution_count": null,
      "metadata": {
        "id": "72468dc2-4e32-4b18-a735-757ebf651457"
      },
      "outputs": [],
      "source": [
        "auc_comb_dict_s = dict(sorted(auc_comb_dict.items(), key=lambda item: item[1]))\n",
        "auc_comb_dict_s"
      ],
      "id": "72468dc2-4e32-4b18-a735-757ebf651457"
    },
    {
      "cell_type": "markdown",
      "metadata": {
        "id": "3a0c73cc-88e5-47e8-b37c-94fac6641a4d"
      },
      "source": [
        "### Hammington Loss score case"
      ],
      "id": "3a0c73cc-88e5-47e8-b37c-94fac6641a4d"
    },
    {
      "cell_type": "code",
      "execution_count": null,
      "metadata": {
        "id": "2408bb6d-74fd-4ca2-a53a-a5f9c6cd7ebd"
      },
      "outputs": [],
      "source": [
        "hml_comb_dict = hml_dict\n",
        "hml_comb_dict.update(NN_hml_dict)"
      ],
      "id": "2408bb6d-74fd-4ca2-a53a-a5f9c6cd7ebd"
    },
    {
      "cell_type": "code",
      "execution_count": null,
      "metadata": {
        "id": "0b98e1ca-389c-497f-b1d3-72f39f4ba2f2"
      },
      "outputs": [],
      "source": [
        "hml_comb_dict_s = dict(sorted(hml_comb_dict.items(), key=lambda item: item[1]))\n",
        "hml_comb_dict_s"
      ],
      "id": "0b98e1ca-389c-497f-b1d3-72f39f4ba2f2"
    },
    {
      "cell_type": "markdown",
      "metadata": {
        "id": "46c18078-81a4-40f0-898c-764acf4e2c0b"
      },
      "source": [
        "### Visualizing combined accuracy score results"
      ],
      "id": "46c18078-81a4-40f0-898c-764acf4e2c0b"
    },
    {
      "cell_type": "markdown",
      "metadata": {
        "id": "eeaae78c-053d-4f6a-8fac-93954b37c8b0"
      },
      "source": [
        "#### Plotting AUC accuracy scores (Higher AUC score indicates better result)"
      ],
      "id": "eeaae78c-053d-4f6a-8fac-93954b37c8b0"
    },
    {
      "cell_type": "code",
      "execution_count": null,
      "metadata": {
        "id": "025790eb-2e91-4213-935f-7e9d1f97c092"
      },
      "outputs": [],
      "source": [
        "fig = px.bar(x=list(auc_comb_dict_s.keys()), y=list(auc_comb_dict_s.values()), text=np.round(list(auc_comb_dict_s.values()), 6),\n",
        "            title='Accuracy (AUC) score of each Classifier',color=list(auc_comb_dict_s.keys()),\n",
        "            color_discrete_sequence=px.colors.sequential.matter)\n",
        "fig.show()"
      ],
      "id": "025790eb-2e91-4213-935f-7e9d1f97c092"
    },
    {
      "cell_type": "code",
      "execution_count": null,
      "metadata": {
        "id": "1ae06cc3-bae6-4d7f-a34b-091cdcd37106"
      },
      "outputs": [],
      "source": [
        "fig = px.bar(x=list(hml_comb_dict_s.keys()), y=list(hml_comb_dict_s.values()), text=np.round(list(hml_comb_dict_s.values()), 6),\n",
        "            title='Accuracy (Hammington Loss) score of each Classifier',color=list(hml_comb_dict_s.keys()),\n",
        "            color_discrete_sequence=px.colors.sequential.matter)\n",
        "fig.show()"
      ],
      "id": "1ae06cc3-bae6-4d7f-a34b-091cdcd37106"
    }
  ],
  "metadata": {
    "colab": {
      "provenance": []
    },
    "kernelspec": {
      "display_name": "Python 3 (ipykernel)",
      "language": "python",
      "name": "python3"
    },
    "language_info": {
      "codemirror_mode": {
        "name": "ipython",
        "version": 3
      },
      "file_extension": ".py",
      "mimetype": "text/x-python",
      "name": "python",
      "nbconvert_exporter": "python",
      "pygments_lexer": "ipython3",
      "version": "3.8.9"
    }
  },
  "nbformat": 4,
  "nbformat_minor": 5
}